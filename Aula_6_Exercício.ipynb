{
 "cells": [
  {
   "cell_type": "markdown",
   "metadata": {
    "id": "1OG5DT_dm6mk"
   },
   "source": [
    "# Notebook de referência \n",
    "\n",
    "Nome: Matheus Lindino"
   ]
  },
  {
   "cell_type": "code",
   "execution_count": 1,
   "metadata": {},
   "outputs": [
    {
     "name": "stdout",
     "output_type": "stream",
     "text": [
      "File ‘aclImdb.tgz’ already there; not retrieving.\n",
      "\n"
     ]
    }
   ],
   "source": [
    "!wget -nc http://files.fast.ai/data/aclImdb.tgz \n",
    "!tar -xzf aclImdb.tgz\n",
    "!pip install transformers pytorch-lightning evaluate -q"
   ]
  },
  {
   "cell_type": "code",
   "execution_count": 2,
   "metadata": {},
   "outputs": [],
   "source": [
    "import os\n",
    "os.environ[\"TOKENIZERS_PARALLELISM\"] = \"false\""
   ]
  },
  {
   "cell_type": "markdown",
   "metadata": {
    "id": "LZ80hHaftwUd"
   },
   "source": [
    "## Instruções:\n",
    "\n",
    "Treinar e medir a acurácia de um modelo BERT (ou variantes) para classificação binária usando o dataset do IMDB (20k/5k amostras de treino/validação).\n",
    "\n",
    "Importante: \n",
    "- Deve-se implementar o próprio laço de treinamento.\n",
    "- Implementar o acumulo de gradiente.\n",
    "\n",
    "Dicas:\n",
    "- BERT geralmente costuma aprender bem uma tarefa com poucas épocas (de 3 a 5 épocas). Se tiver demorando mais de 5 épocas para chegar em 80% de acurácia, ajuste os hiperparametros.\n",
    "\n",
    "- Solução para erro de memória:\n",
    "  - Usar bfloat16 permite quase dobrar o batch size\n",
    "\n",
    "Opcional:\n",
    "- Pode-se usar a função trainer da biblioteca Transformers/HuggingFace para verificar se seu laço de treinamento está correto. Note que ainda assim é obrigatório implementar o laço próprio.\n",
    "\n",
    "- Usar pytorch lightning. Para entender como o pytorch lightning funciona, veja uma implementação simplificada no notebook `06_01_Treino_Validação_MNIST_Lightning_Lite.ipynb`"
   ]
  },
  {
   "cell_type": "code",
   "execution_count": 23,
   "metadata": {},
   "outputs": [],
   "source": [
    "import copy\n",
    "import torch\n",
    "import random\n",
    "import evaluate\n",
    "import numpy as np\n",
    "import pytorch_lightning as pl\n",
    "import torch.nn.functional as F\n",
    "\n",
    "from torch.optim import Adam\n",
    "from tqdm.notebook import tqdm\n",
    "from sklearn.metrics import accuracy_score\n",
    "from torch.utils.data import DataLoader, Dataset\n",
    "from pytorch_lightning.callbacks.early_stopping import EarlyStopping\n",
    "from transformers import BertTokenizerFast, BertForSequenceClassification, Trainer, TrainingArguments, logging, EarlyStoppingCallback, IntervalStrategy\n",
    "\n",
    "logging.set_verbosity_error()"
   ]
  },
  {
   "cell_type": "code",
   "execution_count": 18,
   "metadata": {},
   "outputs": [],
   "source": [
    "params = {\n",
    "    'random_seed': 123,\n",
    "    'bert_version': 'bert-base-uncased',\n",
    "    'batch_size': 32,\n",
    "    'learning_rate': 2e-5,\n",
    "    'max_length': 300,\n",
    "    'epochs': 20,\n",
    "    'patience': 3,\n",
    "    'min_delta': 0,\n",
    "    'weight_decay': 0.01,\n",
    "    'accum_iter': 10\n",
    "}"
   ]
  },
  {
   "cell_type": "code",
   "execution_count": 5,
   "metadata": {
    "colab": {
     "base_uri": "https://localhost:8080/"
    },
    "id": "wHeZ9nAOEB0U",
    "outputId": "bdd4a1f7-e1d0-4377-9638-a4ee1e968a38"
   },
   "outputs": [
    {
     "data": {
      "text/plain": [
       "<torch._C.Generator at 0x7f638c1428f0>"
      ]
     },
     "execution_count": 5,
     "metadata": {},
     "output_type": "execute_result"
    }
   ],
   "source": [
    "random.seed(params['random_seed'])\n",
    "np.random.seed(params['random_seed'])\n",
    "torch.manual_seed(params['random_seed'])"
   ]
  },
  {
   "cell_type": "code",
   "execution_count": 6,
   "metadata": {},
   "outputs": [
    {
     "name": "stdout",
     "output_type": "stream",
     "text": [
      "Device: cuda:0\n"
     ]
    }
   ],
   "source": [
    "device = torch.device(\"cuda:0\" if torch.cuda.is_available() else \"cpu\")\n",
    "print(f'Device: {device}')"
   ]
  },
  {
   "cell_type": "markdown",
   "metadata": {
    "id": "CXFdJz2KVeQw"
   },
   "source": [
    "## Dataset "
   ]
  },
  {
   "cell_type": "code",
   "execution_count": 7,
   "metadata": {
    "colab": {
     "base_uri": "https://localhost:8080/"
    },
    "id": "0HIN_xLI_TuT",
    "outputId": "787fc595-88b1-486a-8c0c-bcde36396793"
   },
   "outputs": [
    {
     "name": "stdout",
     "output_type": "stream",
     "text": [
      "20000 amostras de treino.\n",
      "5000 amostras de desenvolvimento.\n",
      "25000 amostras de teste.\n",
      "3 primeiras amostras treino:\n",
      "False Elvis Presley plays a \"half-breed\" Native American (\"Indian\") who has to defend his reservation from\n",
      "False Hobgoblins... what a concept. Rick Sloan was a master with this film. He had the brilliance to produ\n",
      "True I have to start off by apologizing because I thought the first 75-80% of this film was hilarious. It\n",
      "3 últimas amostras treino:\n",
      "False To review this movie, I without any doubt would have to quote that memorable scene in Tarantino's \"P\n",
      "True Lensman is a rather lesser-known Anime gem from Toho and MK studios.It's loosely based on the novel,\n",
      "True Since it has been some years since I reviewed this classic I have decided to go back and review it m\n",
      "3 primeiras amostras validação:\n",
      "True Now this show looks like most of the other shows of it's type from the mid-90's, but the only thing \n",
      "True I won't go into too much detail about the plot of this movie as other reviewers have covered pretty \n",
      "True Tatie Danielle is all about a ghastly old hag who torments her loving and oblivious family out of sh\n",
      "3 últimas amostras validação:\n",
      "True I entered my first comment on this film almost five years ago. Then, the ideas presented in the movi\n",
      "True I can understand why some people like this movie, and why some people don't. For me, though, I reall\n",
      "True I can remember watching this for the first time, when I was 9 years old. I wanted to be one of the \"\n"
     ]
    }
   ],
   "source": [
    "max_valid = 5000\n",
    "\n",
    "def load_texts(folder):\n",
    "    texts = []\n",
    "    for path in os.listdir(folder):\n",
    "        with open(os.path.join(folder, path)) as f:\n",
    "            texts.append(f.read())\n",
    "    return texts\n",
    "\n",
    "x_train_pos = load_texts('aclImdb/train/pos')\n",
    "x_train_neg = load_texts('aclImdb/train/neg')\n",
    "x_test_pos = load_texts('aclImdb/test/pos')\n",
    "x_test_neg = load_texts('aclImdb/test/neg')\n",
    "\n",
    "x_train = x_train_pos + x_train_neg\n",
    "x_test = x_test_pos + x_test_neg\n",
    "y_train = [True] * len(x_train_pos) + [False] * len(x_train_neg)\n",
    "y_test = [True] * len(x_test_pos) + [False] * len(x_test_neg)\n",
    "\n",
    "# Embaralhamos o treino para depois fazermos a divisão treino/valid.\n",
    "c = list(zip(x_train, y_train))\n",
    "random.shuffle(c)\n",
    "x_train, y_train = zip(*c)\n",
    "\n",
    "x_valid = x_train[-max_valid:]\n",
    "y_valid = y_train[-max_valid:]\n",
    "x_train = x_train[:-max_valid]\n",
    "y_train = y_train[:-max_valid]\n",
    "\n",
    "print(len(x_train), 'amostras de treino.')\n",
    "print(len(x_valid), 'amostras de desenvolvimento.')\n",
    "print(len(x_test), 'amostras de teste.')\n",
    "\n",
    "print('3 primeiras amostras treino:')\n",
    "for x, y in zip(x_train[:3], y_train[:3]):\n",
    "    print(y, x[:100])\n",
    "\n",
    "print('3 últimas amostras treino:')\n",
    "for x, y in zip(x_train[-3:], y_train[-3:]):\n",
    "    print(y, x[:100])\n",
    "\n",
    "print('3 primeiras amostras validação:')\n",
    "for x, y in zip(x_valid[:3], y_test[:3]):\n",
    "    print(y, x[:100])\n",
    "\n",
    "print('3 últimas amostras validação:')\n",
    "for x, y in zip(x_valid[-3:], y_valid[-3:]):\n",
    "    print(y, x[:100])"
   ]
  },
  {
   "cell_type": "markdown",
   "metadata": {},
   "source": [
    "### Tokenizer and Dataloader "
   ]
  },
  {
   "cell_type": "code",
   "execution_count": 8,
   "metadata": {},
   "outputs": [],
   "source": [
    "class IMDBDataset(Dataset):\n",
    "    def __init__(self, data, labels):\n",
    "        super().__init__()\n",
    "        self.data   = data\n",
    "        self.labels = torch.Tensor(labels).long()\n",
    "        \n",
    "    def __len__(self):\n",
    "        return len(self.labels)\n",
    "    \n",
    "    def __getitem__(self, index):\n",
    "        item = {key: value[index] for key, value in self.data.items()}\n",
    "        item['labels'] = self.labels[index] \n",
    "        return item"
   ]
  },
  {
   "cell_type": "code",
   "execution_count": 9,
   "metadata": {},
   "outputs": [],
   "source": [
    "tokenizer = BertTokenizerFast.from_pretrained(params['bert_version'], disable_tqdm=False)\n",
    "\n",
    "## TOKENIZE\n",
    "train_encodings = tokenizer(list(x_train), truncation=True, padding=True, return_tensors='pt', max_length=params['max_length'])\n",
    "valid_encodings = tokenizer(list(x_valid), truncation=True, padding=True, return_tensors='pt', max_length=params['max_length'])\n",
    "test_encodings  = tokenizer(list(x_test), truncation=True, padding=True, return_tensors='pt', max_length=params['max_length'])\n",
    "\n",
    "## DATASET\n",
    "train_dataset = IMDBDataset(data=train_encodings, labels=y_train)\n",
    "valid_dataset = IMDBDataset(data=valid_encodings, labels=y_valid)\n",
    "test_dataset  = IMDBDataset(data=test_encodings, labels=y_test)\n",
    "\n",
    "## DATALOADER\n",
    "train_loader = DataLoader(train_dataset, batch_size=params['batch_size'], shuffle=True, num_workers=8)\n",
    "valid_loader = DataLoader(dataset=valid_dataset, batch_size=params['batch_size'], num_workers=8)\n",
    "test_loader  = DataLoader(dataset=test_dataset, batch_size=params['batch_size'], num_workers=8)"
   ]
  },
  {
   "cell_type": "markdown",
   "metadata": {
    "tags": []
   },
   "source": [
    "## Model"
   ]
  },
  {
   "cell_type": "markdown",
   "metadata": {
    "tags": []
   },
   "source": [
    "### Early Stopping"
   ]
  },
  {
   "cell_type": "code",
   "execution_count": 10,
   "metadata": {},
   "outputs": [],
   "source": [
    "class EarlyStopping():\n",
    "    def __init__(self, patience=10, min_delta=0):\n",
    "        self.patience = patience\n",
    "        self.counter = 0\n",
    "        self.best_score = None\n",
    "        self.best_model_wts = None\n",
    "        self.min_delta = min_delta\n",
    "\n",
    "    def __call__(self, model, val_loss):\n",
    "        score = -val_loss\n",
    "\n",
    "        if self.best_score is None:\n",
    "            self.best_score = score\n",
    "            self.best_model_wts = copy.deepcopy(model.state_dict())\n",
    "            return False\n",
    "\n",
    "        elif score < self.best_score + self.min_delta:\n",
    "            self.counter += 1\n",
    "            if self.counter >= self.patience:\n",
    "                return True\n",
    "        else:\n",
    "            self.best_score = score\n",
    "            self.best_model_wts = copy.deepcopy(model.state_dict())\n",
    "            self.counter = 0\n",
    "        return False"
   ]
  },
  {
   "cell_type": "markdown",
   "metadata": {
    "tags": []
   },
   "source": [
    "### Classical Training"
   ]
  },
  {
   "cell_type": "code",
   "execution_count": 11,
   "metadata": {},
   "outputs": [],
   "source": [
    "def train_epoch(model, dataloader, optimizer):\n",
    "    running_loss = 0.0\n",
    "    running_corrects = 0\n",
    "\n",
    "    model.train()\n",
    "    for batch_idx, data in enumerate(dataloader):\n",
    "        \n",
    "        input_ids      = data['input_ids'].to(device)\n",
    "        attention_mask = data['attention_mask'].to(device)\n",
    "        labels         = data['labels'].to(device)\n",
    "        \n",
    "        outputs = model(input_ids=input_ids, attention_mask=attention_mask, labels=labels)\n",
    "        loss = outputs[0] / params['accum_iter'] \n",
    "\n",
    "        _, preds = torch.max(outputs[1], 1)\n",
    "        \n",
    "        loss.backward()\n",
    "\n",
    "        if ((batch_idx + 1) % params['accum_iter'] == 0) or (batch_idx + 1 == len(dataloader)):\n",
    "            optimizer.step()\n",
    "            optimizer.zero_grad()\n",
    "\n",
    "        running_loss += loss.item()\n",
    "        running_corrects += torch.sum(preds == labels)\n",
    "\n",
    "    return running_loss, running_corrects\n",
    "\n",
    "def evaluate(model, dataloader):\n",
    "    running_loss = 0.0\n",
    "    running_corrects = 0\n",
    "\n",
    "    model.eval()\n",
    "    for data in dataloader:\n",
    "        \n",
    "        input_ids      = data['input_ids'].to(device)\n",
    "        attention_mask = data['attention_mask'].to(device)\n",
    "        labels         = data['labels'].to(device)\n",
    "\n",
    "        with torch.no_grad():\n",
    "            outputs = model(input_ids=input_ids, attention_mask=attention_mask, labels=labels)\n",
    "            loss = outputs[0]\n",
    "            _, preds = torch.max(outputs[1], 1)\n",
    "\n",
    "            running_loss += loss.item()\n",
    "            running_corrects += torch.sum(preds == labels)\n",
    "\n",
    "    return running_loss, running_corrects"
   ]
  },
  {
   "cell_type": "code",
   "execution_count": 12,
   "metadata": {},
   "outputs": [
    {
     "data": {
      "application/vnd.jupyter.widget-view+json": {
       "model_id": "38a34583c6f946f686a35b4b5ea4aded",
       "version_major": 2,
       "version_minor": 0
      },
      "text/plain": [
       "Training:   0%|          | 0/20 [00:00<?, ?it/s]"
      ]
     },
     "metadata": {},
     "output_type": "display_data"
    }
   ],
   "source": [
    "model = BertForSequenceClassification.from_pretrained(params['bert_version'])\n",
    "model = model.to(device)\n",
    "\n",
    "optimizer = Adam(model.parameters(), lr=params['learning_rate'])\n",
    "early_stopping = EarlyStopping(patience=params['patience'], min_delta=params['min_delta'])\n",
    "\n",
    "history = {'train_loss': [], 'val_loss': [], 'train_acc':[], 'val_acc':[], 'train_perplexity': [], 'val_perplexity' : []}\n",
    "\n",
    "for epoch in tqdm(range(params['epochs']), desc='Training'):\n",
    "\n",
    "    train_loss, train_correct = train_epoch(model=model, \n",
    "                                          dataloader=train_loader, \n",
    "                                          optimizer=optimizer)\n",
    "\n",
    "    val_loss, val_correct  = evaluate(model=model, \n",
    "                                    dataloader=valid_loader)\n",
    "    \n",
    "    train_loss = train_loss / len(train_loader)\n",
    "    train_acc = train_correct.cpu().item() / len(train_loader.sampler) * 100\n",
    "    train_perplexity = np.exp(train_loss)\n",
    "\n",
    "    val_loss = val_loss / len(valid_loader)\n",
    "    val_acc = val_correct.cpu().item() / len(valid_loader.sampler) * 100\n",
    "    val_perplexity = np.exp(val_loss)\n",
    "\n",
    "    if early_stopping(model, val_loss): break\n",
    "    \n",
    "    history['train_loss'].append(train_loss)\n",
    "    history['train_acc'].append(train_acc)\n",
    "    history['train_perplexity'].append(train_perplexity)\n",
    "    \n",
    "    history['val_loss'].append(val_loss)\n",
    "    history['val_acc'].append(val_acc)\n",
    "    history['val_perplexity'].append(val_perplexity)"
   ]
  },
  {
   "cell_type": "code",
   "execution_count": 13,
   "metadata": {},
   "outputs": [
    {
     "data": {
      "image/png": "[encoded data removed]",
      "text/plain": [
       "<Figure size 3000x700 with 3 Axes>"
      ]
     },
     "metadata": {},
     "output_type": "display_data"
    }
   ],
   "source": [
    "import matplotlib.pyplot as plt\n",
    "\n",
    "epochs = np.arange(len(history['train_loss']))\n",
    "\n",
    "fig, axes = plt.subplots(nrows=1, ncols=3, figsize=(30,7))\n",
    "axes[0].plot(epochs, history['train_loss'], label='Train')\n",
    "axes[0].plot(epochs, history['val_loss'], label='Validation')\n",
    "axes[0].set_title('Cross Entropy Loss (with Early Stopping)')\n",
    "axes[0].set_xlabel('Epochs'); axes[0].set_ylabel('Loss')\n",
    "axes[0].grid(); axes[0].legend()\n",
    "\n",
    "axes[1].plot(epochs, history['train_acc'], label='Train')\n",
    "axes[1].plot(epochs, history['val_acc'], label='Validation')\n",
    "axes[1].set_title('Accuracy (with Early Stopping)')\n",
    "axes[1].set_xlabel('Epochs'); axes[1].set_ylabel('Acc')\n",
    "axes[1].grid(); axes[1].legend()\n",
    "\n",
    "axes[2].plot(epochs, history['train_perplexity'], label='Train')\n",
    "axes[2].plot(epochs, history['val_perplexity'], label='Validation')\n",
    "axes[2].set_title('Perplexity (with Early Stopping)')\n",
    "axes[2].set_xlabel('Epochs'); axes[2].set_ylabel('EXP(Loss)')\n",
    "axes[2].grid(); axes[2].legend()\n",
    "\n",
    "plt.show()"
   ]
  },
  {
   "cell_type": "code",
   "execution_count": 14,
   "metadata": {},
   "outputs": [
    {
     "name": "stdout",
     "output_type": "stream",
     "text": [
      "CLASSICAL LOOP --> TEST LOSS: 0.19733141157823755 ----- TEST ACC: 92.108 ----- TEST PERPLEXITY: 1.2181476820623431\n"
     ]
    }
   ],
   "source": [
    "classicalLoop = BertForSequenceClassification.from_pretrained(params['bert_version'])\n",
    "classicalLoop.load_state_dict(early_stopping.best_model_wts)\n",
    "classicalLoop.to(device)\n",
    "\n",
    "test_loss, test_correct  = evaluate(model=classicalLoop,\n",
    "                                  dataloader=test_loader)\n",
    "\n",
    "test_loss = test_loss / len(test_loader)\n",
    "test_acc = test_correct.cpu().item() / len(test_loader.sampler) * 100\n",
    "test_perplexity = np.exp(test_loss)\n",
    "\n",
    "print(f'CLASSICAL LOOP --> TEST LOSS: {test_loss} ----- TEST ACC: {test_acc} ----- TEST PERPLEXITY: {test_perplexity}')"
   ]
  },
  {
   "cell_type": "code",
   "execution_count": 15,
   "metadata": {},
   "outputs": [],
   "source": [
    "del classicalLoop\n",
    "del model"
   ]
  },
  {
   "cell_type": "markdown",
   "metadata": {
    "tags": []
   },
   "source": [
    "### Trainer (Hugging Face)"
   ]
  },
  {
   "cell_type": "code",
   "execution_count": 16,
   "metadata": {},
   "outputs": [],
   "source": [
    "def compute_metrics(p):    \n",
    "    preds, labels = p\n",
    "    preds = np.argmax(preds, axis=1)\n",
    "\n",
    "    accuracy = accuracy_score(y_true=labels, y_pred=preds)\n",
    "    return {\"accuracy\": accuracy}"
   ]
  },
  {
   "cell_type": "code",
   "execution_count": 21,
   "metadata": {},
   "outputs": [
    {
     "name": "stderr",
     "output_type": "stream",
     "text": [
      "PyTorch: setting up devices\n",
      "loading configuration file config.json from cache at /home/matheus.lindino/.cache/huggingface/hub/models--bert-base-uncased/snapshots/5546055f03398095e385d7dc625e636cc8910bf2/config.json\n",
      "Model config BertConfig {\n",
      "  \"architectures\": [\n",
      "    \"BertForMaskedLM\"\n",
      "  ],\n",
      "  \"attention_probs_dropout_prob\": 0.1,\n",
      "  \"classifier_dropout\": null,\n",
      "  \"gradient_checkpointing\": false,\n",
      "  \"hidden_act\": \"gelu\",\n",
      "  \"hidden_dropout_prob\": 0.1,\n",
      "  \"hidden_size\": 768,\n",
      "  \"initializer_range\": 0.02,\n",
      "  \"intermediate_size\": 3072,\n",
      "  \"layer_norm_eps\": 1e-12,\n",
      "  \"max_position_embeddings\": 512,\n",
      "  \"model_type\": \"bert\",\n",
      "  \"num_attention_heads\": 12,\n",
      "  \"num_hidden_layers\": 12,\n",
      "  \"pad_token_id\": 0,\n",
      "  \"position_embedding_type\": \"absolute\",\n",
      "  \"transformers_version\": \"4.22.2\",\n",
      "  \"type_vocab_size\": 2,\n",
      "  \"use_cache\": true,\n",
      "  \"vocab_size\": 30522\n",
      "}\n",
      "\n",
      "loading weights file pytorch_model.bin from cache at /home/matheus.lindino/.cache/huggingface/hub/models--bert-base-uncased/snapshots/5546055f03398095e385d7dc625e636cc8910bf2/pytorch_model.bin\n",
      "Some weights of the model checkpoint at bert-base-uncased were not used when initializing BertForSequenceClassification: ['cls.predictions.decoder.weight', 'cls.seq_relationship.weight', 'cls.predictions.transform.LayerNorm.bias', 'cls.predictions.bias', 'cls.predictions.transform.LayerNorm.weight', 'cls.predictions.transform.dense.weight', 'cls.seq_relationship.bias', 'cls.predictions.transform.dense.bias']\n",
      "- This IS expected if you are initializing BertForSequenceClassification from the checkpoint of a model trained on another task or with another architecture (e.g. initializing a BertForSequenceClassification model from a BertForPreTraining model).\n",
      "- This IS NOT expected if you are initializing BertForSequenceClassification from the checkpoint of a model that you expect to be exactly identical (initializing a BertForSequenceClassification model from a BertForSequenceClassification model).\n",
      "Some weights of BertForSequenceClassification were not initialized from the model checkpoint at bert-base-uncased and are newly initialized: ['classifier.weight', 'classifier.bias']\n",
      "You should probably TRAIN this model on a down-stream task to be able to use it for predictions and inference.\n",
      "/home/matheus.lindino/.local/lib/python3.8/site-packages/transformers/optimization.py:306: FutureWarning: This implementation of AdamW is deprecated and will be removed in a future version. Use the PyTorch implementation torch.optim.AdamW instead, or set `no_deprecation_warning=True` to disable this warning\n",
      "  warnings.warn(\n",
      "***** Running training *****\n",
      "  Num examples = 20000\n",
      "  Num Epochs = 5\n",
      "  Instantaneous batch size per device = 32\n",
      "  Total train batch size (w. parallel, distributed & accumulation) = 320\n",
      "  Gradient Accumulation steps = 10\n",
      "  Total optimization steps = 310\n"
     ]
    },
    {
     "data": {
      "text/html": [
       "\n",
       "    <div>\n",
       "      \n",
       "      <progress value='310' max='310' style='width:300px; height:20px; vertical-align: middle;'></progress>\n",
       "      [310/310 42:25, Epoch 4/5]\n",
       "    </div>\n",
       "    <table border=\"1\" class=\"dataframe\">\n",
       "  <thead>\n",
       " <tr style=\"text-align: left;\">\n",
       "      <th>Step</th>\n",
       "      <th>Training Loss</th>\n",
       "      <th>Validation Loss</th>\n",
       "      <th>Accuracy</th>\n",
       "    </tr>\n",
       "  </thead>\n",
       "  <tbody>\n",
       "    <tr>\n",
       "      <td>50</td>\n",
       "      <td>No log</td>\n",
       "      <td>0.231673</td>\n",
       "      <td>0.906400</td>\n",
       "    </tr>\n",
       "    <tr>\n",
       "      <td>100</td>\n",
       "      <td>No log</td>\n",
       "      <td>0.213682</td>\n",
       "      <td>0.920400</td>\n",
       "    </tr>\n",
       "    <tr>\n",
       "      <td>150</td>\n",
       "      <td>No log</td>\n",
       "      <td>0.245234</td>\n",
       "      <td>0.917400</td>\n",
       "    </tr>\n",
       "    <tr>\n",
       "      <td>200</td>\n",
       "      <td>No log</td>\n",
       "      <td>0.305596</td>\n",
       "      <td>0.917200</td>\n",
       "    </tr>\n",
       "    <tr>\n",
       "      <td>250</td>\n",
       "      <td>No log</td>\n",
       "      <td>0.283763</td>\n",
       "      <td>0.915400</td>\n",
       "    </tr>\n",
       "    <tr>\n",
       "      <td>300</td>\n",
       "      <td>No log</td>\n",
       "      <td>0.320472</td>\n",
       "      <td>0.913600</td>\n",
       "    </tr>\n",
       "  </tbody>\n",
       "</table><p>"
      ],
      "text/plain": [
       "<IPython.core.display.HTML object>"
      ]
     },
     "metadata": {},
     "output_type": "display_data"
    },
    {
     "name": "stderr",
     "output_type": "stream",
     "text": [
      "***** Running Evaluation *****\n",
      "  Num examples = 5000\n",
      "  Batch size = 32\n",
      "***** Running Evaluation *****\n",
      "  Num examples = 5000\n",
      "  Batch size = 32\n",
      "***** Running Evaluation *****\n",
      "  Num examples = 5000\n",
      "  Batch size = 32\n",
      "***** Running Evaluation *****\n",
      "  Num examples = 5000\n",
      "  Batch size = 32\n",
      "***** Running Evaluation *****\n",
      "  Num examples = 5000\n",
      "  Batch size = 32\n",
      "***** Running Evaluation *****\n",
      "  Num examples = 5000\n",
      "  Batch size = 32\n",
      "\n",
      "\n",
      "Training completed. Do not forget to share your model on huggingface.co/models =)\n",
      "\n",
      "\n"
     ]
    },
    {
     "data": {
      "text/plain": [
       "TrainOutput(global_step=310, training_loss=0.14282240098522556, metrics={'train_runtime': 2552.3086, 'train_samples_per_second': 39.18, 'train_steps_per_second': 0.121, 'total_flos': 1.539199673856e+16, 'train_loss': 0.14282240098522556, 'epoch': 4.99})"
      ]
     },
     "execution_count": 21,
     "metadata": {},
     "output_type": "execute_result"
    }
   ],
   "source": [
    "args = TrainingArguments(\n",
    "    output_dir='./results',\n",
    "    evaluation_strategy=IntervalStrategy.STEPS,\n",
    "    eval_steps=50,\n",
    "    save_total_limit=5,\n",
    "    num_train_epochs=5,\n",
    "    per_device_train_batch_size=params['batch_size'],\n",
    "    per_device_eval_batch_size=params['batch_size'],\n",
    "    weight_decay=params['weight_decay'],\n",
    "    report_to='none',\n",
    "    load_best_model_at_end=True,\n",
    "    gradient_accumulation_steps=params['accum_iter'])\n",
    "\n",
    "model_HF = BertForSequenceClassification.from_pretrained(params['bert_version'])\n",
    "model_HF = model_HF.to(device)\n",
    "\n",
    "\n",
    "trainer_HF = Trainer(\n",
    "    model=model_HF,                         \n",
    "    args=args,                  \n",
    "    train_dataset=train_dataset,         \n",
    "    eval_dataset=valid_dataset,\n",
    "    compute_metrics=compute_metrics,\n",
    "    callbacks = [EarlyStoppingCallback(early_stopping_patience=params['patience'])]\n",
    ")\n",
    "\n",
    "trainer_HF.train()"
   ]
  },
  {
   "cell_type": "code",
   "execution_count": 24,
   "metadata": {},
   "outputs": [
    {
     "name": "stdout",
     "output_type": "stream",
     "text": [
      "CLASSICAL LOOP --> TEST ACC: 92.10000000000001\n"
     ]
    }
   ],
   "source": [
    "predictions = trainer_HF.predict(test_dataset)\n",
    "preds = np.argmax(predictions.predictions, axis=-1)\n",
    "metric = evaluate.load(\"glue\", \"mrpc\")\n",
    "score = metric.compute(predictions=preds, references=predictions.label_ids)\n",
    "\n",
    "print(f\"CLASSICAL LOOP --> TEST ACC: {score['accuracy']*100}\")"
   ]
  },
  {
   "cell_type": "code",
   "execution_count": 25,
   "metadata": {},
   "outputs": [],
   "source": [
    "del trainer_HF\n",
    "del model_HF"
   ]
  },
  {
   "cell_type": "markdown",
   "metadata": {
    "tags": []
   },
   "source": [
    "### Pytorch Ligthing"
   ]
  },
  {
   "cell_type": "code",
   "execution_count": 27,
   "metadata": {},
   "outputs": [
    {
     "name": "stderr",
     "output_type": "stream",
     "text": [
      "GPU available: True (cuda), used: True\n",
      "TPU available: False, using: 0 TPU cores\n",
      "IPU available: False, using: 0 IPUs\n",
      "HPU available: False, using: 0 HPUs\n",
      "LOCAL_RANK: 0 - CUDA_VISIBLE_DEVICES: [0]\n",
      "\n",
      "  | Name  | Type                          | Params\n",
      "--------------------------------------------------------\n",
      "0 | model | BertForSequenceClassification | 109 M \n",
      "--------------------------------------------------------\n",
      "109 M     Trainable params\n",
      "0         Non-trainable params\n",
      "109 M     Total params\n",
      "437.935   Total estimated model params size (MB)\n"
     ]
    },
    {
     "data": {
      "application/vnd.jupyter.widget-view+json": {
       "model_id": "",
       "version_major": 2,
       "version_minor": 0
      },
      "text/plain": [
       "Sanity Checking: 0it [00:00, ?it/s]"
      ]
     },
     "metadata": {},
     "output_type": "display_data"
    },
    {
     "data": {
      "application/vnd.jupyter.widget-view+json": {
       "model_id": "612e300abd594c8e98c9e3088ee95c16",
       "version_major": 2,
       "version_minor": 0
      },
      "text/plain": [
       "Training: 0it [00:00, ?it/s]"
      ]
     },
     "metadata": {},
     "output_type": "display_data"
    },
    {
     "data": {
      "application/vnd.jupyter.widget-view+json": {
       "model_id": "",
       "version_major": 2,
       "version_minor": 0
      },
      "text/plain": [
       "Validation: 0it [00:00, ?it/s]"
      ]
     },
     "metadata": {},
     "output_type": "display_data"
    },
    {
     "data": {
      "application/vnd.jupyter.widget-view+json": {
       "model_id": "",
       "version_major": 2,
       "version_minor": 0
      },
      "text/plain": [
       "Validation: 0it [00:00, ?it/s]"
      ]
     },
     "metadata": {},
     "output_type": "display_data"
    },
    {
     "data": {
      "application/vnd.jupyter.widget-view+json": {
       "model_id": "",
       "version_major": 2,
       "version_minor": 0
      },
      "text/plain": [
       "Validation: 0it [00:00, ?it/s]"
      ]
     },
     "metadata": {},
     "output_type": "display_data"
    },
    {
     "data": {
      "application/vnd.jupyter.widget-view+json": {
       "model_id": "",
       "version_major": 2,
       "version_minor": 0
      },
      "text/plain": [
       "Validation: 0it [00:00, ?it/s]"
      ]
     },
     "metadata": {},
     "output_type": "display_data"
    }
   ],
   "source": [
    "import torch\n",
    "from torch import nn\n",
    "from torch.nn import functional as F\n",
    "from torch.utils.data import DataLoader\n",
    "from torch.utils.data import random_split\n",
    "from torchvision.datasets import MNIST\n",
    "from torchvision import transforms\n",
    "\n",
    "class PLModel(pl.LightningModule):\n",
    "    def __init__(self):\n",
    "        super().__init__()\n",
    "        self.model = BertForSequenceClassification.from_pretrained(params['bert_version'])\n",
    "        \n",
    "    def forward(self, input_ids, attention_mask, labels):\n",
    "        outputs = self.model(input_ids=input_ids, attention_mask=attention_mask, labels=labels)\n",
    "        return outputs\n",
    "\n",
    "    def configure_optimizers(self):\n",
    "        optimizer = torch.optim.Adam(self.model.parameters(), lr=2e-5)\n",
    "        return optimizer\n",
    "\n",
    "    def training_step(self, train_batch, batch_idx):\n",
    "        input_ids      = train_batch['input_ids']\n",
    "        attention_mask = train_batch['attention_mask']\n",
    "        labels         = train_batch['labels']\n",
    "        \n",
    "        outputs = self.model(input_ids=input_ids, attention_mask=attention_mask, labels=labels)\n",
    "        loss = outputs[0]\n",
    "        \n",
    "        _, preds = torch.max(outputs[1], 1)\n",
    "        self.log('Training Loss', loss, on_epoch=True)\n",
    "        return {'loss': loss, 'preds': preds, 'labels': labels}\n",
    "\n",
    "    def validation_step(self, val_batch, batch_idx):\n",
    "        input_ids      = val_batch['input_ids']\n",
    "        attention_mask = val_batch['attention_mask']\n",
    "        labels         = val_batch['labels']\n",
    "        \n",
    "        outputs = self.model(input_ids=input_ids, attention_mask=attention_mask, labels=labels)\n",
    "        loss = outputs[0]\n",
    "        _, preds = torch.max(outputs[1], 1)\n",
    "        \n",
    "        self.log('Valid Loss', loss, on_epoch=True)\n",
    "        \n",
    "        return {'loss': loss, 'preds': preds, 'labels': labels}\n",
    "    \n",
    "    def test_step(self, test_batch, batch_idx):\n",
    "        input_ids      = test_batch['input_ids']\n",
    "        attention_mask = test_batch['attention_mask']\n",
    "        labels         = test_batch['labels']\n",
    "        \n",
    "        outputs = self.model(input_ids=input_ids, attention_mask=attention_mask, labels=labels)\n",
    "        loss = outputs[0]\n",
    "        _, preds = torch.max(outputs[1], 1)\n",
    "        \n",
    "        return {'loss': loss, 'preds': preds, 'labels': labels}\n",
    "    \n",
    "    def training_epoch_end(self, training_step_outputs):\n",
    "        preds = torch.cat([data['preds'] for data in training_step_outputs])\n",
    "        loss = torch.stack([data['loss'] for data in training_step_outputs])\n",
    "        labels = torch.cat([data['labels'] for data in training_step_outputs])\n",
    "        \n",
    "        acc = torch.sum(preds == labels)\n",
    "        self.log('Training Epoch Accuracy', acc/preds.shape[0])\n",
    "\n",
    "    def validation_epoch_end(self, validation_step_outputs):\n",
    "        preds = torch.cat([data['preds'] for data in validation_step_outputs])\n",
    "        loss = torch.stack([data['loss'] for data in validation_step_outputs])\n",
    "        labels = torch.cat([data['labels'] for data in validation_step_outputs])\n",
    "        \n",
    "        acc = torch.sum(preds == labels)\n",
    "        self.log('Validation Epoch Accuracy', acc/preds.shape[0])\n",
    "\n",
    "    def test_epoch_end(self, test_step_outputs):\n",
    "        preds = torch.cat([data['preds'] for data in test_step_outputs])\n",
    "        loss = torch.stack([data['loss'] for data in test_step_outputs])\n",
    "        labels = torch.cat([data['labels'] for data in test_step_outputs])\n",
    "        \n",
    "        acc = torch.sum(preds == labels)\n",
    "        self.log('Test Epoch Loss', loss.mean())\n",
    "        self.log('Test Accuracy', acc/preds.shape[0])\n",
    "        \n",
    "model_PL = PLModel()\n",
    "trainer_PL = pl.Trainer(max_epochs=5, accelerator='gpu', devices=1, accumulate_grad_batches=params['accum_iter'], callbacks=[EarlyStopping(monitor='Valid Loss', mode='min', patience=3)])\n",
    "trainer_PL.fit(model_PL, train_loader, valid_loader)"
   ]
  },
  {
   "cell_type": "code",
   "execution_count": 28,
   "metadata": {},
   "outputs": [
    {
     "name": "stderr",
     "output_type": "stream",
     "text": [
      "LOCAL_RANK: 0 - CUDA_VISIBLE_DEVICES: [0]\n"
     ]
    },
    {
     "data": {
      "application/vnd.jupyter.widget-view+json": {
       "model_id": "bd19fe8cdb734f65883e5f91827e73a5",
       "version_major": 2,
       "version_minor": 0
      },
      "text/plain": [
       "Testing: 0it [00:00, ?it/s]"
      ]
     },
     "metadata": {},
     "output_type": "display_data"
    },
    {
     "name": "stdout",
     "output_type": "stream",
     "text": [
      "────────────────────────────────────────────────────────────────────────────────────────────────────────────────────────\n",
      "       Test metric             DataLoader 0\n",
      "────────────────────────────────────────────────────────────────────────────────────────────────────────────────────────\n",
      "      Test Accuracy         0.9185999631881714\n",
      "     Test Epoch Loss         0.242848739027977\n",
      "────────────────────────────────────────────────────────────────────────────────────────────────────────────────────────\n"
     ]
    }
   ],
   "source": [
    "score = trainer_PL.test(model_PL, test_loader)"
   ]
  },
  {
   "cell_type": "code",
   "execution_count": null,
   "metadata": {},
   "outputs": [],
   "source": []
  }
 ],
 "metadata": {
  "accelerator": "GPU",
  "colab": {
   "collapsed_sections": [],
   "provenance": []
  },
  "kernelspec": {
   "display_name": "Python 3 (ipykernel)",
   "language": "python",
   "name": "python3"
  },
  "language_info": {
   "codemirror_mode": {
    "name": "ipython",
    "version": 3
   },
   "file_extension": ".py",
   "mimetype": "text/x-python",
   "name": "python",
   "nbconvert_exporter": "python",
   "pygments_lexer": "ipython3",
   "version": "3.8.10"
  }
 },
 "nbformat": 4,
 "nbformat_minor": 4
}
