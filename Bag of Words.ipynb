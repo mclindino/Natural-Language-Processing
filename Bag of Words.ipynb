{
  "cells": [
    {
      "cell_type": "markdown",
      "metadata": {
        "id": "Od7iUgHy5SSi"
      },
      "source": [
        "# Aula 2: Análise de Sentimentos usando Bag of Words\n",
        "\n",
        "Neste notebook iremos treinar um rede de uma única camada para fazer análise de sentimento usando o dataset IMDB."
      ]
    },
    {
      "cell_type": "markdown",
      "metadata": {
        "id": "JoxVbBQ2mk24"
      },
      "source": [
        "**A função tokenize foi inspirada no código mostrado em sala de aula.** \n",
        "\n",
        "(Notebok da aula 1 do Pedro Gengo: https://colab.research.google.com/drive/1FIG0-2DMgMjPHIYXqeM3M124ahd44Zkq?usp=sharing ) "
      ]
    },
    {
      "cell_type": "code",
      "execution_count": null,
      "metadata": {
        "colab": {
          "base_uri": "https://localhost:8080/"
        },
        "id": "3vAaCL0u-zg3",
        "outputId": "6a23a8f3-e5f0-4bf6-a406-4bd6716f52ee"
      },
      "outputs": [
        {
          "name": "stdout",
          "output_type": "stream",
          "text": [
            "Meu nome é Matheus Lindino\n"
          ]
        }
      ],
      "source": [
        "nome = 'Matheus Lindino'\n",
        "print(f'Meu nome é {nome}')"
      ]
    },
    {
      "cell_type": "markdown",
      "metadata": {
        "id": "Mhv5U8Muiyz_"
      },
      "source": [
        "# Importando as bibliotecas necessárias"
      ]
    },
    {
      "cell_type": "code",
      "execution_count": null,
      "metadata": {
        "id": "qzTCVXoOiyIs"
      },
      "outputs": [],
      "source": [
        "import re\n",
        "import torch\n",
        "import numpy as np\n",
        "import collections\n",
        "import pandas as pd\n",
        "import matplotlib.pyplot as plt\n",
        "\n",
        "from typing import List"
      ]
    },
    {
      "cell_type": "markdown",
      "metadata": {
        "id": "CXFdJz2KVeQw"
      },
      "source": [
        "# Preparando Dados"
      ]
    },
    {
      "cell_type": "markdown",
      "metadata": {
        "id": "gHMi_Kq65fPM"
      },
      "source": [
        "Primeiro, fazemos download do dataset:"
      ]
    },
    {
      "cell_type": "code",
      "execution_count": null,
      "metadata": {
        "colab": {
          "base_uri": "https://localhost:8080/"
        },
        "id": "2wbnfzst5O3k",
        "outputId": "2c89f96e-2138-47bb-b920-f123874255b4"
      },
      "outputs": [
        {
          "name": "stdout",
          "output_type": "stream",
          "text": [
            "--2022-08-31 23:53:47--  http://files.fast.ai/data/examples/imdb_sample.tgz\n",
            "Resolving files.fast.ai (files.fast.ai)... 104.26.3.19, 172.67.69.159, 104.26.2.19, ...\n",
            "Connecting to files.fast.ai (files.fast.ai)|104.26.3.19|:80... connected.\n",
            "HTTP request sent, awaiting response... 301 Moved Permanently\n",
            "Location: https://files.fast.ai/data/examples/imdb_sample.tgz [following]\n",
            "--2022-08-31 23:53:47--  https://files.fast.ai/data/examples/imdb_sample.tgz\n",
            "Connecting to files.fast.ai (files.fast.ai)|104.26.3.19|:443... connected.\n",
            "HTTP request sent, awaiting response... 200 OK\n",
            "Length: 571827 (558K) [application/x-gtar-compressed]\n",
            "Saving to: ‘imdb_sample.tgz’\n",
            "\n",
            "imdb_sample.tgz     100%[===================>] 558.42K  1.96MB/s    in 0.3s    \n",
            "\n",
            "2022-08-31 23:53:48 (1.96 MB/s) - ‘imdb_sample.tgz’ saved [571827/571827]\n",
            "\n"
          ]
        }
      ],
      "source": [
        "!wget -nc http://files.fast.ai/data/examples/imdb_sample.tgz\n",
        "!tar -xzf imdb_sample.tgz"
      ]
    },
    {
      "cell_type": "markdown",
      "metadata": {
        "id": "0Giyi5Rv_NIm"
      },
      "source": [
        "Carregamos o dataset .csv usando o pandas:"
      ]
    },
    {
      "cell_type": "code",
      "execution_count": null,
      "metadata": {
        "colab": {
          "base_uri": "https://localhost:8080/",
          "height": 206
        },
        "id": "0HIN_xLI_TuT",
        "outputId": "87f465a9-1496-45ca-dad0-9c267cb6cc28"
      },
      "outputs": [
        {
          "data": {
            "text/html": [
              "\n",
              "  <div id=\"df-ce60bb01-304e-4a87-9ef1-31e229b63f33\">\n",
              "    <div class=\"colab-df-container\">\n",
              "      <div>\n",
              "<style scoped>\n",
              "    .dataframe tbody tr th:only-of-type {\n",
              "        vertical-align: middle;\n",
              "    }\n",
              "\n",
              "    .dataframe tbody tr th {\n",
              "        vertical-align: top;\n",
              "    }\n",
              "\n",
              "    .dataframe thead th {\n",
              "        text-align: right;\n",
              "    }\n",
              "</style>\n",
              "<table border=\"1\" class=\"dataframe\">\n",
              "  <thead>\n",
              "    <tr style=\"text-align: right;\">\n",
              "      <th></th>\n",
              "      <th>label</th>\n",
              "      <th>text</th>\n",
              "      <th>is_valid</th>\n",
              "    </tr>\n",
              "  </thead>\n",
              "  <tbody>\n",
              "    <tr>\n",
              "      <th>0</th>\n",
              "      <td>negative</td>\n",
              "      <td>Un-bleeping-believable! Meg Ryan doesn't even ...</td>\n",
              "      <td>False</td>\n",
              "    </tr>\n",
              "    <tr>\n",
              "      <th>1</th>\n",
              "      <td>positive</td>\n",
              "      <td>This is a extremely well-made film. The acting...</td>\n",
              "      <td>False</td>\n",
              "    </tr>\n",
              "    <tr>\n",
              "      <th>2</th>\n",
              "      <td>negative</td>\n",
              "      <td>Every once in a long while a movie will come a...</td>\n",
              "      <td>False</td>\n",
              "    </tr>\n",
              "    <tr>\n",
              "      <th>3</th>\n",
              "      <td>positive</td>\n",
              "      <td>Name just says it all. I watched this movie wi...</td>\n",
              "      <td>False</td>\n",
              "    </tr>\n",
              "    <tr>\n",
              "      <th>4</th>\n",
              "      <td>negative</td>\n",
              "      <td>This movie succeeds at being one of the most u...</td>\n",
              "      <td>False</td>\n",
              "    </tr>\n",
              "  </tbody>\n",
              "</table>\n",
              "</div>\n",
              "      <button class=\"colab-df-convert\" onclick=\"convertToInteractive('df-ce60bb01-304e-4a87-9ef1-31e229b63f33')\"\n",
              "              title=\"Convert this dataframe to an interactive table.\"\n",
              "              style=\"display:none;\">\n",
              "        \n",
              "  <svg xmlns=\"http://www.w3.org/2000/svg\" height=\"24px\"viewBox=\"0 0 24 24\"\n",
              "       width=\"24px\">\n",
              "    <path d=\"M0 0h24v24H0V0z\" fill=\"none\"/>\n",
              "    <path d=\"M18.56 5.44l.94 2.06.94-2.06 2.06-.94-2.06-.94-.94-2.06-.94 2.06-2.06.94zm-11 1L8.5 8.5l.94-2.06 2.06-.94-2.06-.94L8.5 2.5l-.94 2.06-2.06.94zm10 10l.94 2.06.94-2.06 2.06-.94-2.06-.94-.94-2.06-.94 2.06-2.06.94z\"/><path d=\"M17.41 7.96l-1.37-1.37c-.4-.4-.92-.59-1.43-.59-.52 0-1.04.2-1.43.59L10.3 9.45l-7.72 7.72c-.78.78-.78 2.05 0 2.83L4 21.41c.39.39.9.59 1.41.59.51 0 1.02-.2 1.41-.59l7.78-7.78 2.81-2.81c.8-.78.8-2.07 0-2.86zM5.41 20L4 18.59l7.72-7.72 1.47 1.35L5.41 20z\"/>\n",
              "  </svg>\n",
              "      </button>\n",
              "      \n",
              "  <style>\n",
              "    .colab-df-container {\n",
              "      display:flex;\n",
              "      flex-wrap:wrap;\n",
              "      gap: 12px;\n",
              "    }\n",
              "\n",
              "    .colab-df-convert {\n",
              "      background-color: #E8F0FE;\n",
              "      border: none;\n",
              "      border-radius: 50%;\n",
              "      cursor: pointer;\n",
              "      display: none;\n",
              "      fill: #1967D2;\n",
              "      height: 32px;\n",
              "      padding: 0 0 0 0;\n",
              "      width: 32px;\n",
              "    }\n",
              "\n",
              "    .colab-df-convert:hover {\n",
              "      background-color: #E2EBFA;\n",
              "      box-shadow: 0px 1px 2px rgba(60, 64, 67, 0.3), 0px 1px 3px 1px rgba(60, 64, 67, 0.15);\n",
              "      fill: #174EA6;\n",
              "    }\n",
              "\n",
              "    [theme=dark] .colab-df-convert {\n",
              "      background-color: #3B4455;\n",
              "      fill: #D2E3FC;\n",
              "    }\n",
              "\n",
              "    [theme=dark] .colab-df-convert:hover {\n",
              "      background-color: #434B5C;\n",
              "      box-shadow: 0px 1px 3px 1px rgba(0, 0, 0, 0.15);\n",
              "      filter: drop-shadow(0px 1px 2px rgba(0, 0, 0, 0.3));\n",
              "      fill: #FFFFFF;\n",
              "    }\n",
              "  </style>\n",
              "\n",
              "      <script>\n",
              "        const buttonEl =\n",
              "          document.querySelector('#df-ce60bb01-304e-4a87-9ef1-31e229b63f33 button.colab-df-convert');\n",
              "        buttonEl.style.display =\n",
              "          google.colab.kernel.accessAllowed ? 'block' : 'none';\n",
              "\n",
              "        async function convertToInteractive(key) {\n",
              "          const element = document.querySelector('#df-ce60bb01-304e-4a87-9ef1-31e229b63f33');\n",
              "          const dataTable =\n",
              "            await google.colab.kernel.invokeFunction('convertToInteractive',\n",
              "                                                     [key], {});\n",
              "          if (!dataTable) return;\n",
              "\n",
              "          const docLinkHtml = 'Like what you see? Visit the ' +\n",
              "            '<a target=\"_blank\" href=https://colab.research.google.com/notebooks/data_table.ipynb>data table notebook</a>'\n",
              "            + ' to learn more about interactive tables.';\n",
              "          element.innerHTML = '';\n",
              "          dataTable['output_type'] = 'display_data';\n",
              "          await google.colab.output.renderOutput(dataTable, element);\n",
              "          const docLink = document.createElement('div');\n",
              "          docLink.innerHTML = docLinkHtml;\n",
              "          element.appendChild(docLink);\n",
              "        }\n",
              "      </script>\n",
              "    </div>\n",
              "  </div>\n",
              "  "
            ],
            "text/plain": [
              "      label                                               text  is_valid\n",
              "0  negative  Un-bleeping-believable! Meg Ryan doesn't even ...     False\n",
              "1  positive  This is a extremely well-made film. The acting...     False\n",
              "2  negative  Every once in a long while a movie will come a...     False\n",
              "3  positive  Name just says it all. I watched this movie wi...     False\n",
              "4  negative  This movie succeeds at being one of the most u...     False"
            ]
          },
          "execution_count": 4,
          "metadata": {},
          "output_type": "execute_result"
        }
      ],
      "source": [
        "df = pd.read_csv('imdb_sample/texts.csv')\n",
        "df.shape\n",
        "df.head()"
      ]
    },
    {
      "cell_type": "markdown",
      "metadata": {
        "id": "S8dfjdJ-AV79"
      },
      "source": [
        "Iremos agora apenas selecionar 100 exemplos de treinamento:"
      ]
    },
    {
      "cell_type": "code",
      "execution_count": null,
      "metadata": {
        "colab": {
          "base_uri": "https://localhost:8080/"
        },
        "id": "KCoftmPmAfXE",
        "outputId": "14dbc5d9-cb68-4133-a8ef-a68d173a8e26"
      },
      "outputs": [
        {
          "name": "stdout",
          "output_type": "stream",
          "text": [
            "treino.shape original: (800, 3)\n",
            "treino.shape depois: (100, 3)\n"
          ]
        }
      ],
      "source": [
        "treino = df[df['is_valid'] == False]  # Apenas treinamento, isto é, descartamos o dataset de validação.\n",
        "\n",
        "print('treino.shape original:', treino.shape)\n",
        "\n",
        "treino = treino[:100]  # Aqui truncamos o dataset para os 100 primeiros exemplos. \n",
        "\n",
        "print('treino.shape depois:', treino.shape)"
      ]
    },
    {
      "cell_type": "markdown",
      "metadata": {
        "id": "ZHus6FH7DftH"
      },
      "source": [
        "Iremos dividir este conjunto em entrada (X) e saída desejada (Y, target) e converter as strings \"positive\" e \"negative\" do target para valores booleanos:"
      ]
    },
    {
      "cell_type": "code",
      "execution_count": null,
      "metadata": {
        "colab": {
          "base_uri": "https://localhost:8080/"
        },
        "id": "46RdLFLkEW-X",
        "outputId": "92e25eab-5a7b-4868-c112-266b5c835dec"
      },
      "outputs": [
        {
          "name": "stdout",
          "output_type": "stream",
          "text": [
            "Primeiras linhas de X_treino:\n",
            "0    Un-bleeping-believable! Meg Ryan doesn't even ...\n",
            "1    This is a extremely well-made film. The acting...\n",
            "2    Every once in a long while a movie will come a...\n",
            "3    Name just says it all. I watched this movie wi...\n",
            "4    This movie succeeds at being one of the most u...\n",
            "Name: text, dtype: object\n",
            "\n",
            "Primeiras linhas de Y_treino:\n",
            "0    negative\n",
            "1    positive\n",
            "2    negative\n",
            "3    positive\n",
            "4    negative\n",
            "Name: label, dtype: object\n",
            "\n",
            "Tamanho de Y_treino: torch.Size([100])\n",
            "5 primeiras linhas de Y_treino: tensor([0, 1, 0, 1, 0])\n",
            "Número de exemplos positivos: 51\n",
            "Número de exemplos negativos: 49\n"
          ]
        }
      ],
      "source": [
        "X_treino = treino['text']\n",
        "Y_treino = treino['label']\n",
        "\n",
        "print(f'Primeiras linhas de X_treino:\\n{X_treino.head()}\\n')\n",
        "print(f'Primeiras linhas de Y_treino:\\n{Y_treino.head()}\\n')\n",
        "\n",
        "mapeamento = {'positive': True, 'negative': False}\n",
        "Y_treino = Y_treino.map(mapeamento)\n",
        "Y_treino = torch.tensor(Y_treino.values, dtype=torch.long)\n",
        "print(f'Tamanho de Y_treino: {Y_treino.shape}')\n",
        "print(f'5 primeiras linhas de Y_treino: {Y_treino[:5]}')\n",
        "print(f'Número de exemplos positivos: {(Y_treino == True).sum()}')\n",
        "print(f'Número de exemplos negativos: {(Y_treino == False).sum()}')"
      ]
    },
    {
      "cell_type": "markdown",
      "metadata": {
        "id": "XLlaPgP0Z_D4"
      },
      "source": [
        "# Definindo o tokenizador\n",
        "\n",
        "Agora temos a função de tokenização, isto é, que converte strings para tokens."
      ]
    },
    {
      "cell_type": "code",
      "execution_count": null,
      "metadata": {
        "id": "YIpp1C_qZ-QX"
      },
      "outputs": [],
      "source": [
        "def tokenize(text: str):\n",
        "  \"\"\"\n",
        "  Convert string to a list of tokens (i.e., words).\n",
        "  This function lower cases everything and removes punctuation.\n",
        "  \"\"\"\n",
        "  \n",
        "  pattern = r'\\w+'\n",
        "  upper_tokens = re.findall(pattern, text)\n",
        "  tokenized = [tokens.lower() for tokens in upper_tokens]\n",
        "  return tokenized"
      ]
    },
    {
      "cell_type": "markdown",
      "metadata": {
        "id": "uE7kwbIYlkPn"
      },
      "source": [
        "## Testando a função com um exemplo simples\n"
      ]
    },
    {
      "cell_type": "code",
      "execution_count": null,
      "metadata": {
        "colab": {
          "base_uri": "https://localhost:8080/"
        },
        "id": "iS6QbpUwifyY",
        "outputId": "1dd5e921-c8ac-4701-f204-2788b4a80499"
      },
      "outputs": [
        {
          "name": "stdout",
          "output_type": "stream",
          "text": [
            "Passou no assert!\n"
          ]
        }
      ],
      "source": [
        "assert tokenize(\"I like to eat pizza.\") == ['i', 'like', 'to', 'eat', 'pizza'], \"Não passou no assert.\"\n",
        "print('Passou no assert!')"
      ]
    },
    {
      "cell_type": "markdown",
      "metadata": {
        "id": "gbf_yO6XJ_hY"
      },
      "source": [
        "# Definindo o vocabulário\n",
        "\n",
        "Selecionaremos os `max_tokens` (ex: 1000) tokens mais frequentes do dataset de treino como sendo nosso vocabulário."
      ]
    },
    {
      "cell_type": "code",
      "execution_count": null,
      "metadata": {
        "id": "jVc8uucLK4pP"
      },
      "outputs": [],
      "source": [
        "def create_vocab(texts: List[str], max_tokens: int):\n",
        "  \"\"\"\n",
        "  Returns a dictionary whose keys are tokens and values are token ids (from 0 to max_tokens - 1).\n",
        "  \"\"\"\n",
        "\n",
        "  tokens = tokenize(' '.join(texts))\n",
        "  counter = collections.Counter(tokens).most_common(max_tokens)\n",
        "  \n",
        "  vocab = dict((key, i) for i, (key, values) in enumerate(counter))\n",
        "  return vocab"
      ]
    },
    {
      "cell_type": "markdown",
      "metadata": {
        "id": "aMYyPXpYlr64"
      },
      "source": [
        "## Testando a função\n"
      ]
    },
    {
      "cell_type": "code",
      "execution_count": null,
      "metadata": {
        "colab": {
          "base_uri": "https://localhost:8080/"
        },
        "id": "fF_9u5e4FdD5",
        "outputId": "1760f7da-9401-45df-d3a7-bf4e9ff729bf"
      },
      "outputs": [
        {
          "name": "stdout",
          "output_type": "stream",
          "text": [
            "Passou no assert!\n"
          ]
        }
      ],
      "source": [
        "text = ['Apple Banana Orange Mango', 'Apple Apple Orange Banana', 'Apple Banana']\n",
        "n_tokens = 4\n",
        "vocab = create_vocab(text, n_tokens)\n",
        "\n",
        "assert len(vocab) == n_tokens, 'Number of elements incorrect'\n",
        "assert ('apple', 0) in vocab.items(), 'First element incorrect'\n",
        "\n",
        "print('Passou no assert!')"
      ]
    },
    {
      "cell_type": "markdown",
      "metadata": {
        "id": "wki1S4LMKCrh"
      },
      "source": [
        "# Função para converter string para Bag-of-words"
      ]
    },
    {
      "cell_type": "code",
      "execution_count": null,
      "metadata": {
        "id": "4TdUgA5RMl_4"
      },
      "outputs": [],
      "source": [
        "def convert_to_bow(text: str, vocab):\n",
        "  \"\"\"\n",
        "  Returns a bag-of-word vector of size len(vocab).\n",
        "  \"\"\"\n",
        "\n",
        "  tokens = tokenize(text)\n",
        "  bow = torch.zeros(len(vocab))\n",
        "  \n",
        "  for sample in tokens:\n",
        "    if sample in vocab:\n",
        "      bow[vocab[sample]] = 1\n",
        "\n",
        "  return bow"
      ]
    },
    {
      "cell_type": "markdown",
      "metadata": {
        "id": "jLnkDcWil-Jd"
      },
      "source": [
        "## Testando a função"
      ]
    },
    {
      "cell_type": "code",
      "execution_count": null,
      "metadata": {
        "colab": {
          "base_uri": "https://localhost:8080/"
        },
        "id": "kTu0EBGVGw_8",
        "outputId": "192ddad4-4391-460a-cc71-78a449dbe4af"
      },
      "outputs": [
        {
          "name": "stdout",
          "output_type": "stream",
          "text": [
            "Passou no assert!\n"
          ]
        }
      ],
      "source": [
        "text = ['Apple Banana Orange Mango', 'Apple Apple Orange Banana', 'Apple Banana']\n",
        "n_tokens = 6\n",
        "vocab = create_vocab(text, n_tokens)\n",
        "bow = []\n",
        "\n",
        "for sample in text:\n",
        "  bow.append(convert_to_bow(sample, vocab))\n",
        "\n",
        "assert len(bow[0]) == len(vocab), 'Number of elements incorrect'\n",
        "assert len(bow) == len(text), 'Number of samples incorrect'\n",
        "\n",
        "print('Passou no assert!')"
      ]
    },
    {
      "cell_type": "markdown",
      "metadata": {
        "id": "7_6pddDHEM_r"
      },
      "source": [
        "## Definindo a Rede Neural\n",
        "\n",
        "**Entrada:**\n",
        "\n",
        "$x \\in R^{B \\times |V|}$     (bag-of-words)\n",
        "\n",
        "**Parametros:**\n",
        "\n",
        "$W \\in R^{|V| \\times K}$    (weights: matriz de pesos)\n",
        "\n",
        "$b \\in R^{K}$    (bias/viés)\n",
        "\n",
        "**Saída:**\n",
        "\n",
        "$p \\in R^{B \\times K}$  (probabilidade de cada classe)\n",
        "\n",
        "\n",
        "**Onde:**\n",
        "\n",
        "$K$ = número de classes\n",
        "\n",
        "$B$ = tamanho do batch\n",
        "\n",
        "$|V|$ = tamanho do vocabulário\n",
        "\n",
        "**Definição da rede:**\n",
        "\n",
        "$z = xW + b$   (camada linear. $z$ é chamado de logits)\n",
        "\n",
        "$p_i = \\frac{e^{z_i}}{\\sum_{j=0}^{K-1} e^{z_j}}$   (softmax)\n",
        "\n"
      ]
    },
    {
      "cell_type": "code",
      "execution_count": null,
      "metadata": {
        "id": "oLReRSuDEPLL"
      },
      "outputs": [],
      "source": [
        "def softmax(logits):\n",
        "  logits_max = torch.max(logits, dim=1, keepdim=True)[0]\n",
        "  logits_exp = torch.exp(logits - logits_max)\n",
        "  return logits_exp/torch.sum(logits_exp, dim=1, keepdim=True)\n",
        "\n",
        "class MyModel():\n",
        "  \n",
        "  def __init__(self, dim: int, n_classes: int):\n",
        "    self.weights = 0.01 * torch.rand(dim, n_classes) - 0.005\n",
        "    self.bias = 0.01 * torch.rand(n_classes) - 0.005\n",
        "    \n",
        "    self.weights.requires_grad = True\n",
        "    self.bias.requires_grad = True\n",
        "\n",
        "  def __call__(self, x):\n",
        "    logits = torch.matmul(x, self.weights) + self.bias\n",
        "    probs = softmax(logits)\n",
        "    return probs"
      ]
    },
    {
      "cell_type": "markdown",
      "metadata": {
        "id": "_8eWRvN79f4O"
      },
      "source": [
        "## Testando modelo com uma entrada aleatória\n",
        "\n",
        "Escreva abaixo um pequeno código para testar se seu modelo processa uma matriz de entrada de tamanho `batch_size, dim`, ou seja, a matriz contém `batch_size` exemplos, cada um sendo representado por um vetor de tamanho `dim`."
      ]
    },
    {
      "cell_type": "code",
      "execution_count": null,
      "metadata": {
        "colab": {
          "base_uri": "https://localhost:8080/"
        },
        "id": "R-lupvM_HxOJ",
        "outputId": "46ca290b-d942-47ea-97c8-9707150cc1ae"
      },
      "outputs": [
        {
          "name": "stdout",
          "output_type": "stream",
          "text": [
            "Passou no assert\n"
          ]
        }
      ],
      "source": [
        "batch_size = 10\n",
        "dim = 100\n",
        "n_classes = 2\n",
        "\n",
        "X = torch.rand(batch_size, dim)\n",
        "model = MyModel(dim=dim, n_classes=n_classes)\n",
        "probs = model(X)\n",
        "\n",
        "assert probs.shape == (X.shape[0], n_classes), 'Dimension incorrect'\n",
        "assert probs.sum(1)[0] == 1., 'Softmax incorrect' \n",
        "print('Passou no assert')"
      ]
    },
    {
      "cell_type": "markdown",
      "metadata": {
        "id": "O-EXAYdOvGcF"
      },
      "source": [
        "# Função de custo Entropia Cruzada\n",
        "\n",
        "$y \\in R^{K}$  (target),\n",
        "\n",
        "a equação da entropia cruzada associada a um exemplo é dada por:\n",
        "\n",
        "$L = \\sum_{i=0}^{K-1} -y_i \\log p_i$   (esta é a loss por exemplo)\n",
        "\n",
        "Se $y$ for um vetor one-hot (apenas um dos elementos é diferente de zero), podemos simplicar a equação acima para:\n",
        "\n",
        "$L = -\\log p_i$\n",
        "\n",
        "Onde $i$ é o indice da classe correta. Ou seja, $p_i$ é a probabilidade que o modelo colocou na classe correta.\n",
        "\n",
        "A função de custo é a **média** da entropia cruzada de cada exemplo no batch."
      ]
    },
    {
      "cell_type": "code",
      "execution_count": null,
      "metadata": {
        "id": "YyHefTffhgmx"
      },
      "outputs": [],
      "source": [
        "def cross_entropy_loss(probs, targets):\n",
        "    \"\"\"\n",
        "    Args:\n",
        "      probs: a float32 matrix of shape (batch_size, number of classes)\n",
        "      targets: a long (int64) array of shape (batch_size)\n",
        "\n",
        "    Returns:\n",
        "      Mean loss in the batch.\n",
        "    \"\"\"\n",
        "    \n",
        "    range = torch.arange(0, len(targets))\n",
        "    losses = -torch.log(probs[range, targets[range]])\n",
        "\n",
        "    return losses.mean()"
      ]
    },
    {
      "cell_type": "markdown",
      "metadata": {
        "id": "kIgECDC5uqRo"
      },
      "source": [
        "## Testando a função entropia cruzada com probabilidades de 50%\n",
        "\n",
        "Escreva abaixo um pequeno código para testar se a entropia cruzada confere com a resposta do problema 3.6 do exercício da semana passada. Crie um tensor para as probabilidades (50%) e um target também aleatório balanceado e calcule a cross entropia. Qual é o valor esperado da cross entropia nesse caso?"
      ]
    },
    {
      "cell_type": "code",
      "execution_count": null,
      "metadata": {
        "colab": {
          "base_uri": "https://localhost:8080/"
        },
        "id": "-10K5Jecve--",
        "outputId": "effa06bf-64fb-46cf-c372-38471394f63a"
      },
      "outputs": [
        {
          "name": "stdout",
          "output_type": "stream",
          "text": [
            "Passou no assert\n"
          ]
        }
      ],
      "source": [
        "from math import log \n",
        "\n",
        "probs = torch.tensor([[.5, .5], [.5, .5], [.5, .5], [.5, .5], [.5, .5], [.5, .5], [.5, .5], [.5, .5], [.5, .5], [.5, .5]])\n",
        "targets = torch.tensor([0, 0, 0, 0, 0, 1, 1, 1, 1, 1])\n",
        "\n",
        "assert cross_entropy_loss(probs, targets) == log(2), 'Cross Entropy incorrect'\n",
        "print('Passou no assert')"
      ]
    },
    {
      "cell_type": "markdown",
      "metadata": {
        "id": "jWcTeNuJF1Mp"
      },
      "source": [
        "# Convertendo dataset de treino para uma matriz de bag-of-words"
      ]
    },
    {
      "cell_type": "code",
      "execution_count": null,
      "metadata": {
        "colab": {
          "base_uri": "https://localhost:8080/"
        },
        "id": "kGIFOJZcFs7b",
        "outputId": "66d52c8c-305a-4ac6-ace5-79900101c094"
      },
      "outputs": [
        {
          "name": "stdout",
          "output_type": "stream",
          "text": [
            "torch.Size([100, 1000])\n"
          ]
        }
      ],
      "source": [
        "vocab = create_vocab(X_treino, max_tokens=1000)\n",
        "bows = []\n",
        "for text in X_treino:\n",
        "    bow = convert_to_bow(text, vocab)\n",
        "    bows.append(bow)\n",
        "\n",
        "X = torch.stack(bows)\n",
        "print(X.shape)"
      ]
    },
    {
      "cell_type": "markdown",
      "metadata": {
        "id": "OSdBQozHlT59"
      },
      "source": [
        "# Laço de Treinamento"
      ]
    },
    {
      "cell_type": "code",
      "execution_count": null,
      "metadata": {
        "colab": {
          "base_uri": "https://localhost:8080/"
        },
        "id": "7j3a3FsBlWCy",
        "outputId": "780ca2ec-0a41-498d-fbbf-38bbc28a9621"
      },
      "outputs": [
        {
          "name": "stdout",
          "output_type": "stream",
          "text": [
            "iteration: 0  loss: 0.693480  exp(loss): 2.0007\n",
            "iteration: 1  loss: 0.650483  exp(loss): 1.9165\n",
            "iteration: 2  loss: 0.612096  exp(loss): 1.8443\n",
            "iteration: 3  loss: 0.577708  exp(loss): 1.7819\n",
            "iteration: 4  loss: 0.546790  exp(loss): 1.7277\n",
            "iteration: 5  loss: 0.518886  exp(loss): 1.6802\n",
            "iteration: 6  loss: 0.493604  exp(loss): 1.6382\n",
            "iteration: 7  loss: 0.470608  exp(loss): 1.6010\n",
            "iteration: 8  loss: 0.449615  exp(loss): 1.5677\n",
            "iteration: 9  loss: 0.430380  exp(loss): 1.5378\n",
            "iteration: 10  loss: 0.412695  exp(loss): 1.5109\n",
            "iteration: 11  loss: 0.396382  exp(loss): 1.4864\n",
            "iteration: 12  loss: 0.381289  exp(loss): 1.4642\n",
            "iteration: 13  loss: 0.367284  exp(loss): 1.4438\n",
            "iteration: 14  loss: 0.354254  exp(loss): 1.4251\n",
            "iteration: 15  loss: 0.342100  exp(loss): 1.4079\n",
            "iteration: 16  loss: 0.330736  exp(loss): 1.3920\n",
            "iteration: 17  loss: 0.320087  exp(loss): 1.3772\n",
            "iteration: 18  loss: 0.310088  exp(loss): 1.3635\n",
            "iteration: 19  loss: 0.300679  exp(loss): 1.3508\n",
            "iteration: 20  loss: 0.291810  exp(loss): 1.3388\n",
            "iteration: 21  loss: 0.283436  exp(loss): 1.3277\n",
            "iteration: 22  loss: 0.275516  exp(loss): 1.3172\n",
            "iteration: 23  loss: 0.268013  exp(loss): 1.3074\n",
            "iteration: 24  loss: 0.260895  exp(loss): 1.2981\n",
            "iteration: 25  loss: 0.254134  exp(loss): 1.2893\n",
            "iteration: 26  loss: 0.247703  exp(loss): 1.2811\n",
            "iteration: 27  loss: 0.241578  exp(loss): 1.2733\n",
            "iteration: 28  loss: 0.235737  exp(loss): 1.2658\n",
            "iteration: 29  loss: 0.230162  exp(loss): 1.2588\n",
            "iteration: 30  loss: 0.224835  exp(loss): 1.2521\n",
            "iteration: 31  loss: 0.219739  exp(loss): 1.2458\n",
            "iteration: 32  loss: 0.214860  exp(loss): 1.2397\n",
            "iteration: 33  loss: 0.210184  exp(loss): 1.2339\n",
            "iteration: 34  loss: 0.205699  exp(loss): 1.2284\n",
            "iteration: 35  loss: 0.201393  exp(loss): 1.2231\n",
            "iteration: 36  loss: 0.197257  exp(loss): 1.2181\n",
            "iteration: 37  loss: 0.193279  exp(loss): 1.2132\n",
            "iteration: 38  loss: 0.189451  exp(loss): 1.2086\n",
            "iteration: 39  loss: 0.185766  exp(loss): 1.2041\n",
            "iteration: 40  loss: 0.182214  exp(loss): 1.1999\n",
            "iteration: 41  loss: 0.178790  exp(loss): 1.1958\n",
            "iteration: 42  loss: 0.175486  exp(loss): 1.1918\n",
            "iteration: 43  loss: 0.172296  exp(loss): 1.1880\n",
            "iteration: 44  loss: 0.169215  exp(loss): 1.1844\n",
            "iteration: 45  loss: 0.166237  exp(loss): 1.1809\n",
            "iteration: 46  loss: 0.163357  exp(loss): 1.1775\n",
            "iteration: 47  loss: 0.160571  exp(loss): 1.1742\n",
            "iteration: 48  loss: 0.157873  exp(loss): 1.1710\n",
            "iteration: 49  loss: 0.155260  exp(loss): 1.1680\n",
            "iteration: 50  loss: 0.152728  exp(loss): 1.1650\n",
            "iteration: 51  loss: 0.150273  exp(loss): 1.1622\n",
            "iteration: 52  loss: 0.147893  exp(loss): 1.1594\n",
            "iteration: 53  loss: 0.145583  exp(loss): 1.1567\n",
            "iteration: 54  loss: 0.143340  exp(loss): 1.1541\n",
            "iteration: 55  loss: 0.141162  exp(loss): 1.1516\n",
            "iteration: 56  loss: 0.139046  exp(loss): 1.1492\n",
            "iteration: 57  loss: 0.136990  exp(loss): 1.1468\n",
            "iteration: 58  loss: 0.134991  exp(loss): 1.1445\n",
            "iteration: 59  loss: 0.133046  exp(loss): 1.1423\n",
            "iteration: 60  loss: 0.131154  exp(loss): 1.1401\n",
            "iteration: 61  loss: 0.129312  exp(loss): 1.1380\n",
            "iteration: 62  loss: 0.127519  exp(loss): 1.1360\n",
            "iteration: 63  loss: 0.125772  exp(loss): 1.1340\n",
            "iteration: 64  loss: 0.124071  exp(loss): 1.1321\n",
            "iteration: 65  loss: 0.122413  exp(loss): 1.1302\n",
            "iteration: 66  loss: 0.120796  exp(loss): 1.1284\n",
            "iteration: 67  loss: 0.119219  exp(loss): 1.1266\n",
            "iteration: 68  loss: 0.117682  exp(loss): 1.1249\n",
            "iteration: 69  loss: 0.116181  exp(loss): 1.1232\n",
            "iteration: 70  loss: 0.114717  exp(loss): 1.1216\n",
            "iteration: 71  loss: 0.113287  exp(loss): 1.1200\n",
            "iteration: 72  loss: 0.111890  exp(loss): 1.1184\n",
            "iteration: 73  loss: 0.110527  exp(loss): 1.1169\n",
            "iteration: 74  loss: 0.109194  exp(loss): 1.1154\n",
            "iteration: 75  loss: 0.107892  exp(loss): 1.1139\n",
            "iteration: 76  loss: 0.106619  exp(loss): 1.1125\n",
            "iteration: 77  loss: 0.105374  exp(loss): 1.1111\n",
            "iteration: 78  loss: 0.104157  exp(loss): 1.1098\n",
            "iteration: 79  loss: 0.102966  exp(loss): 1.1085\n",
            "iteration: 80  loss: 0.101801  exp(loss): 1.1072\n",
            "iteration: 81  loss: 0.100661  exp(loss): 1.1059\n",
            "iteration: 82  loss: 0.099545  exp(loss): 1.1047\n",
            "iteration: 83  loss: 0.098453  exp(loss): 1.1035\n",
            "iteration: 84  loss: 0.097383  exp(loss): 1.1023\n",
            "iteration: 85  loss: 0.096335  exp(loss): 1.1011\n",
            "iteration: 86  loss: 0.095308  exp(loss): 1.1000\n",
            "iteration: 87  loss: 0.094302  exp(loss): 1.0989\n",
            "iteration: 88  loss: 0.093316  exp(loss): 1.0978\n",
            "iteration: 89  loss: 0.092350  exp(loss): 1.0967\n",
            "iteration: 90  loss: 0.091403  exp(loss): 1.0957\n",
            "iteration: 91  loss: 0.090474  exp(loss): 1.0947\n",
            "iteration: 92  loss: 0.089563  exp(loss): 1.0937\n",
            "iteration: 93  loss: 0.088669  exp(loss): 1.0927\n",
            "iteration: 94  loss: 0.087793  exp(loss): 1.0918\n",
            "iteration: 95  loss: 0.086932  exp(loss): 1.0908\n",
            "iteration: 96  loss: 0.086088  exp(loss): 1.0899\n",
            "iteration: 97  loss: 0.085260  exp(loss): 1.0890\n",
            "iteration: 98  loss: 0.084446  exp(loss): 1.0881\n",
            "iteration: 99  loss: 0.083647  exp(loss): 1.0872\n"
          ]
        }
      ],
      "source": [
        "num_iterations = 100\n",
        "learning_rate = 0.1\n",
        "n_classes = 2\n",
        "losses = []\n",
        "\n",
        "model = MyModel(dim=len(vocab), n_classes=n_classes)\n",
        "\n",
        "for i in range(num_iterations):\n",
        "    # Zera os gradientes\n",
        "    if model.weights.grad is not None:\n",
        "        model.weights.grad.data.zero_()\n",
        "        model.bias.grad.data.zero_()\n",
        "\n",
        "    probs = model(X)\n",
        "    loss = cross_entropy_loss(probs, Y_treino)\n",
        "    print(f'iteration: {i}  loss: {loss:.6f}  exp(loss): {torch.exp(loss):.4f}')\n",
        "    losses.append(loss.item())\n",
        "    loss.backward()\n",
        "\n",
        "    #Atualiza os pesos\n",
        "    model.weights.data = model.weights.data - learning_rate * model.weights.grad.data\n",
        "    model.bias.data = model.bias.data - learning_rate * model.bias.grad.data"
      ]
    },
    {
      "cell_type": "code",
      "execution_count": null,
      "metadata": {
        "colab": {
          "base_uri": "https://localhost:8080/",
          "height": 350
        },
        "id": "vnjUHsUIyIc3",
        "outputId": "c15eca46-2235-4e00-e8c6-df205cb5db02"
      },
      "outputs": [
        {
          "data": {
            "image/png": "[encoded data removed]",
            "text/plain": [
              "<Figure size 1080x360 with 1 Axes>"
            ]
          },
          "metadata": {
            "needs_background": "light"
          },
          "output_type": "display_data"
        }
      ],
      "source": [
        "num_iterations = 100\n",
        "learning_rate = [1, 0.1, 0.01, 0.001]\n",
        "n_classes = 2\n",
        "final_loss = []\n",
        "\n",
        "plt.figure(figsize=(15,5))\n",
        "\n",
        "for lr in learning_rate:    \n",
        "  losses = []\n",
        "  model = MyModel(dim=len(vocab), n_classes=n_classes)\n",
        "\n",
        "  for i in range(num_iterations):\n",
        "    if model.weights.grad is not None:\n",
        "        model.weights.grad.data.zero_()\n",
        "        model.bias.grad.data.zero_()\n",
        "\n",
        "    probs = model(X)\n",
        "    loss = cross_entropy_loss(probs, Y_treino)\n",
        "    losses.append(loss.item())\n",
        "    loss.backward()\n",
        "\n",
        "    model.weights.data = model.weights.data - lr * model.weights.grad.data\n",
        "    model.bias.data = model.bias.data - lr * model.bias.grad.data\n",
        "\n",
        "  plt.plot(losses, label=f'Learning_rate = {lr}')\n",
        "  final_loss.append(losses[-1])\n",
        "\n",
        "plt.xlabel('Epochs'); plt.ylabel('Loss'); plt.title('Cross Entropy Loss comparison between different learning rates')\n",
        "plt.legend(); plt.grid(); plt.show()"
      ]
    },
    {
      "cell_type": "code",
      "execution_count": null,
      "metadata": {
        "colab": {
          "base_uri": "https://localhost:8080/"
        },
        "id": "3REEDVnLr3Q6",
        "outputId": "bcb5d7ab-ff08-4c58-fb42-bf41dc690226"
      },
      "outputs": [
        {
          "name": "stdout",
          "output_type": "stream",
          "text": [
            "\u001b[;1mFinal Losses after 100 epochs:\u001b[0;0m\n",
            "\tLearning_rate = 1\t ----- \tLoss = 0.002\n",
            "\tLearning_rate = 0.1\t ----- \tLoss = 0.084\n",
            "\tLearning_rate = 0.01\t ----- \tLoss = 0.417\n",
            "\tLearning_rate = 0.001\t ----- \tLoss = 0.653\n"
          ]
        }
      ],
      "source": [
        "RESET = \"\\033[0;0m\"\n",
        "BOLD    = \"\\033[;1m\"\n",
        "\n",
        "print(f'{BOLD}Final Losses after 100 epochs:{RESET}')\n",
        "for i in range(len(final_loss)): print(f'\\tLearning_rate = {learning_rate[i]}\\t ----- \\tLoss = {round(final_loss[i],3)}')"
      ]
    },
    {
      "cell_type": "markdown",
      "metadata": {
        "id": "L-wI6LFlt2R3"
      },
      "source": [
        "Sobre os resultados do learning rate, é necessário destacar dois pontos:\n",
        "\n",
        "\n",
        "*   Mesmo que o valor de loss de treinamento seja menor quando o learning rate é maior, não quer dizer que esse modelo generalizou melhor que os demais. Apenas que ele convergiu mais rapidamente.\n",
        "\n",
        "*   Com o learning rate igual a 1, é possível visualizar uma mudança drástica no começo. Isso se dá pelo passo que o gradiente realiza ser muito alto, ocasionado nesses saltos. Nesse exercício, mesmo com esses saltos, o modelo conseguiu convergir para um ponto ótimo. Isso nem sempre é verdade.\n",
        "\n"
      ]
    }
  ],
  "metadata": {
    "colab": {
      "collapsed_sections": [],
      "provenance": []
    },
    "kernelspec": {
      "display_name": "Python 3.8.10 64-bit",
      "language": "python",
      "name": "python3"
    },
    "language_info": {
      "name": "python",
      "version": "3.8.10"
    },
    "vscode": {
      "interpreter": {
        "hash": "916dbcbb3f70747c44a77c7bcd40155683ae19c65e1c03b4aa3499c5328201f1"
      }
    }
  },
  "nbformat": 4,
  "nbformat_minor": 0
}
