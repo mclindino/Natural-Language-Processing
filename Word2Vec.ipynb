{
  "nbformat": 4,
  "nbformat_minor": 0,
  "metadata": {
    "colab": {
      "provenance": [],
      "collapsed_sections": []
    },
    "kernelspec": {
      "name": "python3",
      "display_name": "Python 3"
    },
    "accelerator": "GPU"
  },
  "cells": [
    {
      "cell_type": "code",
      "source": [
        "nome = 'Matheus Lindino'\n",
        "print(f'Meu nome é {nome}')"
      ],
      "metadata": {
        "id": "jOdQB41_4ZxG",
        "colab": {
          "base_uri": "https://localhost:8080/"
        },
        "outputId": "bef9355b-a69e-4a03-d9bc-5bc0009a9067"
      },
      "execution_count": null,
      "outputs": [
        {
          "output_type": "stream",
          "name": "stdout",
          "text": [
            "Meu nome é Matheus Lindino\n"
          ]
        }
      ]
    },
    {
      "cell_type": "markdown",
      "metadata": {
        "id": "2IbuChoAPMEn"
      },
      "source": [
        "#  Exercício: Modelo de Linguagem (Bengio 2003) - MLP + Embeddings"
      ]
    },
    {
      "cell_type": "markdown",
      "metadata": {
        "id": "p_DBb0-Klwf2"
      },
      "source": [
        "Neste exercício iremos treinar uma rede neural similar a do Bengio 2003 para prever a próxima palavra de um texto, data as palavras anteriores como entrada. Esta tarefa é chamada de \"Modelagem da Linguagem\".\n",
        "\n",
        "Algumas dicas:\n",
        "- Inclua caracteres de pontuação (ex: `.` e `,`) no vocabulário.\n",
        "- Deixe tudo como caixa baixa (lower-case).\n",
        "- A escolha do tamanho do vocabulario é importante: ser for muito grande, fica difícil para o modelo aprender boas representações. Se for muito pequeno, o modelo apenas conseguirá gerar textos simples.\n",
        "- Remova qualquer exemplo de treino/validação/teste que tenha pelo menos um token desconhecido (ou na entrada ou na saída). \n",
        "- Este dataset já possui um tamanho razoável e é bem provável que você vai precisar rodar seus experimentos com GPU.\n",
        "- Durante a depuração, faça seu dataset ficar bem pequeno, para que a depuração seja mais rápida e não precise de GPU. Somente ligue a GPU quando o seu laço de treinamento já está funcionando\n",
        "- Não deixe para fazer esse exercício na véspera. Ele é trabalhoso."
      ]
    },
    {
      "cell_type": "markdown",
      "metadata": {
        "id": "YnyhJZtTRNMx"
      },
      "source": [
        "## Importação dos pacotes"
      ]
    },
    {
      "cell_type": "code",
      "metadata": {
        "id": "qlIOVCajPWcU"
      },
      "source": [
        "import collections\n",
        "import itertools\n",
        "import functools\n",
        "import math\n",
        "import os\n",
        "import random\n",
        "import re\n",
        "import copy\n",
        "\n",
        "import torch\n",
        "import torch.nn as nn\n",
        "import numpy as np\n",
        "from tqdm import tqdm\n",
        "from torch.utils.data import DataLoader, Dataset\n",
        "from tqdm import tqdm_notebook\n",
        "from typing import List"
      ],
      "execution_count": null,
      "outputs": []
    },
    {
      "cell_type": "code",
      "source": [
        "# Check which GPU we are using\n",
        "!nvidia-smi"
      ],
      "metadata": {
        "id": "w9f3PfifAwpU",
        "colab": {
          "base_uri": "https://localhost:8080/"
        },
        "outputId": "004062d9-989d-40b0-b6ba-adafc8c5872c"
      },
      "execution_count": null,
      "outputs": [
        {
          "output_type": "stream",
          "name": "stdout",
          "text": [
            "Wed Sep 21 15:54:35 2022       \n",
            "+-----------------------------------------------------------------------------+\n",
            "| NVIDIA-SMI 460.32.03    Driver Version: 460.32.03    CUDA Version: 11.2     |\n",
            "|-------------------------------+----------------------+----------------------+\n",
            "| GPU  Name        Persistence-M| Bus-Id        Disp.A | Volatile Uncorr. ECC |\n",
            "| Fan  Temp  Perf  Pwr:Usage/Cap|         Memory-Usage | GPU-Util  Compute M. |\n",
            "|                               |                      |               MIG M. |\n",
            "|===============================+======================+======================|\n",
            "|   0  Tesla T4            Off  | 00000000:00:04.0 Off |                    0 |\n",
            "| N/A   51C    P8    10W /  70W |      0MiB / 15109MiB |      0%      Default |\n",
            "|                               |                      |                  N/A |\n",
            "+-------------------------------+----------------------+----------------------+\n",
            "                                                                               \n",
            "+-----------------------------------------------------------------------------+\n",
            "| Processes:                                                                  |\n",
            "|  GPU   GI   CI        PID   Type   Process name                  GPU Memory |\n",
            "|        ID   ID                                                   Usage      |\n",
            "|=============================================================================|\n",
            "|  No running processes found                                                 |\n",
            "+-----------------------------------------------------------------------------+\n"
          ]
        }
      ]
    },
    {
      "cell_type": "code",
      "source": [
        "if torch.cuda.is_available(): \n",
        "   dev = \"cuda:0\"\n",
        "else: \n",
        "   dev = \"cpu\"\n",
        "device = torch.device(dev)\n",
        "print('Using {}'.format(device))"
      ],
      "metadata": {
        "id": "whTCe2i7AtoV",
        "colab": {
          "base_uri": "https://localhost:8080/"
        },
        "outputId": "9bcc6298-2df2-4090-cbd6-420ff5786581"
      },
      "execution_count": null,
      "outputs": [
        {
          "output_type": "stream",
          "name": "stdout",
          "text": [
            "Using cuda:0\n"
          ]
        }
      ]
    },
    {
      "cell_type": "markdown",
      "metadata": {
        "id": "4LfrHHouleJ0"
      },
      "source": [
        "# Carregamento do dataset \n",
        "\n",
        "Primeiro, fazemos download do dataset:"
      ]
    },
    {
      "cell_type": "code",
      "metadata": {
        "id": "2wbnfzst5O3k",
        "colab": {
          "base_uri": "https://localhost:8080/"
        },
        "outputId": "01c90bca-6552-4158-9c5b-bb376cc11ac9"
      },
      "source": [
        "!wget -nc http://files.fast.ai/data/aclImdb.tgz \n",
        "!tar -xzf aclImdb.tgz"
      ],
      "execution_count": null,
      "outputs": [
        {
          "output_type": "stream",
          "name": "stdout",
          "text": [
            "File ‘aclImdb.tgz’ already there; not retrieving.\n",
            "\n"
          ]
        }
      ]
    },
    {
      "cell_type": "markdown",
      "metadata": {
        "id": "0Giyi5Rv_NIm"
      },
      "source": [
        "## Carregando o dataset\n",
        "\n",
        "Criaremos uma divisão de treino (80%) e validação (20%) artificialmente.\n",
        "\n",
        "Nota: Evitar de olhar ao máximo o dataset de teste para não ficar enviseado no que será testado. Em aplicações reais, o dataset de teste só estará disponível no futuro, ou seja, é quando o usuário começa a testar o seu produto."
      ]
    },
    {
      "cell_type": "code",
      "metadata": {
        "id": "0HIN_xLI_TuT",
        "colab": {
          "base_uri": "https://localhost:8080/"
        },
        "outputId": "ff015626-104d-46bc-a031-0258a85a303b"
      },
      "source": [
        "def load_texts(folder):\n",
        "    texts = []\n",
        "    for path in os.listdir(folder):\n",
        "        with open(os.path.join(folder, path)) as f:\n",
        "            texts.append(f.read())\n",
        "    return texts\n",
        "\n",
        "x_train_pos = load_texts('aclImdb/train/pos')\n",
        "x_train_neg = load_texts('aclImdb/train/neg')\n",
        "x_test_pos = load_texts('aclImdb/test/pos')\n",
        "x_test_neg = load_texts('aclImdb/test/neg')\n",
        "\n",
        "x_train = x_train_pos + x_train_neg\n",
        "x_test = x_test_pos + x_test_neg\n",
        "\n",
        "# Embaralhamos o treino para depois fazermos a divisão treino/valid.\n",
        "random.shuffle(x_train)\n",
        "\n",
        "n_train = int(0.8 * len(x_train))\n",
        "\n",
        "x_valid = x_train[n_train:]\n",
        "x_train = x_train[:n_train]\n",
        "\n",
        "print(len(x_train), 'amostras de treino.')\n",
        "print(len(x_valid), 'amostras de desenvolvimento.')\n",
        "print(len(x_test), 'amostras de teste.')\n",
        "\n",
        "print('3 primeiras amostras treino:')\n",
        "for x in x_train[:3]:\n",
        "    print(x[:100])\n",
        "\n",
        "print('3 últimas amostras treino:')\n",
        "for x in x_train[-3:]:\n",
        "    print(x[:100])\n",
        "\n",
        "print('3 primeiras amostras validação:')\n",
        "for x in x_valid[:3]:\n",
        "    print(x[:100])\n",
        "\n",
        "print('3 últimas amostras validação:')\n",
        "for x in x_valid[-3:]:\n",
        "    print(x[:100])"
      ],
      "execution_count": null,
      "outputs": [
        {
          "output_type": "stream",
          "name": "stdout",
          "text": [
            "20000 amostras de treino.\n",
            "5000 amostras de desenvolvimento.\n",
            "25000 amostras de teste.\n",
            "3 primeiras amostras treino:\n",
            "Some wonder why there weren't anymore Mrs. Murphy movies after this one. Will it's because this movi\n",
            "Blood Castle (aka Scream of the Demon Lover, Altar of Blood, Ivanna--the best, but least exploitatio\n",
            "\"Dominique\" is one of those films that the expression \"slow-as-molasses\" must have been invented for\n",
            "3 últimas amostras treino:\n",
            "A lot of the user comments i have seen on the IMDB for this movie don't really do it justice. First \n",
            "I almost didn't rent this because of all the bad comments but did anyways.I thought it was similar t\n",
            "I had a really hard time making it through this move. It was extermly slow and at times wondered whe\n",
            "3 primeiras amostras validação:\n",
            "A tour deforce! OK the kid that plays Oliver is a bit toooooo sweet! Starting with the great cinemat\n",
            "This film is a perfect example of the recent crop of horror films that simply are not fully realized\n",
            "This is an installment in the notorious Guinea Pig series. A short lived japanese TV-show, that got \n",
            "3 últimas amostras validação:\n",
            "It's my opinion that when you decide to re-make a very good film, you should strive to do better tha\n",
            "I MAY have seen an episode or 2 when the show originally aired but when I watched 1 episode on netfl\n",
            "Ridiculous. This movie is actually a vehicle for the Ramtha School of Enlightenment. If you are wond\n"
          ]
        }
      ]
    },
    {
      "cell_type": "markdown",
      "source": [
        "## Classe Tokenizer"
      ],
      "metadata": {
        "id": "n51salhH51py"
      }
    },
    {
      "cell_type": "code",
      "source": [
        "class Tokenizer():\n",
        "  def __init__(self, max_tokens=3000):\n",
        "    self.max_tokens_ = max_tokens\n",
        "    self.vocab_ = None\n",
        "\n",
        "  def tokenize(self, text: str):\n",
        "    pattern = r'\\w+|[^\\w\\s]'\n",
        "    text = text.replace('<br />',' ')\n",
        "    return [tokens.lower() for tokens in re.findall(pattern, text)]\n",
        "\n",
        "  def create_vocab(self, texts: List[str]):\n",
        "    tokens = self.tokenize(' '.join(texts))\n",
        "    counter = collections.Counter(tokens).most_common(self.max_tokens_)\n",
        "    self.vocab_ = dict((key, i) for i, (key, values) in enumerate(counter))\n",
        "    self.vocab_['unk'] = -1\n",
        "    \n",
        "    return self\n",
        "\n",
        "  def encode(self, data: str):\n",
        "    data = self.tokenize(data)\n",
        "    return [self.vocab_.get(sample, -1) for sample in data]\n",
        "  \n",
        "  def decode(self, array):\n",
        "    inverse_vocab = {y: x for x, y in self.vocab_.items()}\n",
        "    return [inverse_vocab[i] for i in array]"
      ],
      "metadata": {
        "id": "0njwKo4YIuJt"
      },
      "execution_count": null,
      "outputs": []
    },
    {
      "cell_type": "markdown",
      "source": [
        "### Asserts da tokenização e codificação"
      ],
      "metadata": {
        "id": "UuQgOL8nzpbE"
      }
    },
    {
      "cell_type": "code",
      "source": [
        "corpus = ['Apple, Banana, Apple, Avocado, Pineapple <br /><br />',\n",
        "          'Apple. Pineapple and Mango',\n",
        "          'Banana, Mango! Banana, Apple',\n",
        "          'Pineapple Berry Apricot Apple',\n",
        "          'Avocado Apple']\n",
        "            \n",
        "sample = 'Apricot Apple, Banana, Banana Banana'\n",
        "\n",
        "\n",
        "tokenizer = Tokenizer(max_tokens=3)\n",
        "tokenizer.create_vocab(corpus)\n",
        "vocab = tokenizer.vocab_\n",
        "encoded = tokenizer.encode(sample)\n",
        "decoded = tokenizer.decode(encoded)\n",
        "\n",
        "assert list(vocab.keys()) == ['apple', ',', 'banana', 'unk'], 'Vocab Incorrect'\n",
        "assert encoded == [-1, 0, 1, 2, 1, 2, 2], 'Encoder Incorrect'\n",
        "assert decoded == ['unk', 'apple', ',', 'banana', ',', 'banana', 'banana'], 'Decoder Incorrect'"
      ],
      "metadata": {
        "id": "I27saqQQOo04"
      },
      "execution_count": null,
      "outputs": []
    },
    {
      "cell_type": "markdown",
      "source": [
        "## Dataset"
      ],
      "metadata": {
        "id": "oinKo8lW5416"
      }
    },
    {
      "cell_type": "code",
      "source": [
        "class IMDBDataset(Dataset):\n",
        "    def __init__(self, data, tokenizer, n_context=9):\n",
        "        super().__init__()\n",
        "        self.data = []\n",
        "              \n",
        "        for sample in data:\n",
        "          sample = tokenizer.encode(sample)\n",
        "          \n",
        "          for i in range(0, len(sample) - n_context):\n",
        "            sample_sliced = sample[i:i+n_context+1]\n",
        "            \n",
        "            if -1 not in sample_sliced:\n",
        "              self.data.append(sample_sliced) \n",
        "\n",
        "    def __len__(self):\n",
        "        return len(self.data)\n",
        "    \n",
        "    def __getitem__(self, index):\n",
        "        return torch.tensor(self.data[index][:-1]), torch.tensor(self.data[index][-1]).long()"
      ],
      "metadata": {
        "id": "ah0pQcaoKM7C"
      },
      "execution_count": null,
      "outputs": []
    },
    {
      "cell_type": "markdown",
      "source": [
        "### Asserts do Dataset"
      ],
      "metadata": {
        "id": "zwFkdoEozvaT"
      }
    },
    {
      "cell_type": "code",
      "source": [
        "corpus = ['Apple, Banana, Apple, Avocado, Pineapple',\n",
        "          'Apple. Pineapple and Mango',\n",
        "          'Banana, Mango! Banana, Apple',\n",
        "          'Pineapple Berry Apricot Apple',\n",
        "          'Avocado Apple']\n",
        "\n",
        "n_context = 2\n",
        "customDataset = IMDBDataset(data=corpus, tokenizer=Tokenizer(max_tokens=3).create_vocab(corpus), n_context=n_context)\n",
        "x, y = customDataset.__getitem__(0)\n",
        "\n",
        "assert len(customDataset.data[0]) == n_context+1, 'Dataset shape incorrect'\n",
        "assert x.shape[0] == n_context, 'Example shape incorrect'"
      ],
      "metadata": {
        "id": "WrngSv2lSAQz"
      },
      "execution_count": null,
      "outputs": []
    },
    {
      "cell_type": "markdown",
      "source": [
        "## Modelo de Linguagem"
      ],
      "metadata": {
        "id": "0U6Na3rV56xf"
      }
    },
    {
      "cell_type": "code",
      "source": [
        "class BasicLanguageModel(nn.Module):\n",
        "  def __init__(self, n_context, vocab_size, embedding_dim, hidden_size):\n",
        "    super().__init__()\n",
        "    self.embedding   = nn.Embedding(num_embeddings=vocab_size, embedding_dim=embedding_dim, max_norm=True)\n",
        "    self.input_layer = nn.Linear(in_features=n_context*embedding_dim, out_features=hidden_size)\n",
        "    self.activation  = nn.ReLU()\n",
        "    self.out_layer   = nn.Linear(in_features=hidden_size, out_features=vocab_size)\n",
        "\n",
        "  def forward(self, data):\n",
        "    data = self.embedding(data)\n",
        "    data = self.input_layer(data.flatten(start_dim=1))\n",
        "    data = self.activation(data)\n",
        "    data = self.out_layer(data)\n",
        "\n",
        "    return data"
      ],
      "metadata": {
        "id": "NccovZTLu63Z"
      },
      "execution_count": null,
      "outputs": []
    },
    {
      "cell_type": "markdown",
      "source": [
        "### Asserts do modelo"
      ],
      "metadata": {
        "id": "-vZ_h82kzyAq"
      }
    },
    {
      "cell_type": "code",
      "source": [
        "batch_size = 2\n",
        "n_context  = 10\n",
        "vocab_size = 50\n",
        "\n",
        "model = BasicLanguageModel(n_context=n_context, vocab_size=vocab_size, embedding_dim=10, hidden_size=10)\n",
        "inputs = torch.rand((batch_size, n_context)).long()\n",
        "logits = model(inputs)\n",
        "\n",
        "assert list(logits.shape) == [batch_size, vocab_size], 'Logits shape incorrect'"
      ],
      "metadata": {
        "id": "wLCchZj5TSGf"
      },
      "execution_count": null,
      "outputs": []
    },
    {
      "cell_type": "markdown",
      "source": [
        "## Early Stopping"
      ],
      "metadata": {
        "id": "P850qW65z1MR"
      }
    },
    {
      "cell_type": "code",
      "source": [
        "class EarlyStopping():\n",
        "  def __init__(self, patience=10, min_delta=0):\n",
        "    self.patience = patience\n",
        "    self.counter = 0\n",
        "    self.best_score = None\n",
        "    self.best_model_wts = None\n",
        "    self.min_delta = min_delta\n",
        "\n",
        "  def __call__(self, model, val_loss):\n",
        "    score = -val_loss\n",
        "\n",
        "    if self.best_score is None:\n",
        "        self.best_score = score\n",
        "        self.best_model_wts = copy.deepcopy(model.state_dict())\n",
        "        return False\n",
        "\n",
        "    elif score < self.best_score + self.min_delta:\n",
        "        self.counter += 1\n",
        "        if self.counter >= self.patience:\n",
        "            return True\n",
        "    else:\n",
        "        self.best_score = score\n",
        "        self.best_model_wts = copy.deepcopy(model.state_dict())\n",
        "        self.counter = 0\n",
        "        return False"
      ],
      "metadata": {
        "id": "m7eknQVtvTcX"
      },
      "execution_count": null,
      "outputs": []
    },
    {
      "cell_type": "markdown",
      "source": [
        "## Funções auxiliares para treinamento"
      ],
      "metadata": {
        "id": "KwMfkYLL5-iv"
      }
    },
    {
      "cell_type": "code",
      "source": [
        "def train_epoch(model, dataloader, criterion, optimizer, get_perplexity, initial_perplexity):\n",
        "  running_loss = 0.0\n",
        "  running_corrects = 0\n",
        "  model.train()\n",
        "  for inputs, targets in dataloader:    \n",
        "    inputs = inputs.to(device)\n",
        "    targets = targets.to(device)\n",
        "    \n",
        "    optimizer.zero_grad()\n",
        "    \n",
        "    outputs = model(inputs)\n",
        "    loss = criterion(outputs, targets)\n",
        "    \n",
        "    initial_perplexity = np.exp(loss.item()) if get_perplexity  else initial_perplexity\n",
        "    get_perplexity = False\n",
        "    \n",
        "    _, preds = torch.max(outputs, 1)\n",
        "    loss.backward()\n",
        "    optimizer.step()\n",
        "\n",
        "    running_loss += loss.item() \n",
        "    running_corrects += torch.sum(preds == targets.data)\n",
        "\n",
        "  return running_loss, running_corrects, initial_perplexity\n",
        "\n",
        "def evaluate(model, dataloader, criterion):\n",
        "  running_loss = 0.0\n",
        "  running_corrects = 0\n",
        "\n",
        "  model.eval()\n",
        "  for inputs, targets in dataloader:\n",
        "    inputs = inputs.to(device)\n",
        "    targets = targets.to(device)\n",
        "\n",
        "    with torch.no_grad():\n",
        "      outputs = model(inputs)\n",
        "      loss = criterion(outputs, targets)\n",
        "      _, preds = torch.max(outputs, 1)\n",
        "      \n",
        "      running_loss += loss.item()\n",
        "      running_corrects += torch.sum(preds == targets.data)\n",
        "\n",
        "  return running_loss, running_corrects"
      ],
      "metadata": {
        "id": "5FdE3DLovZM-"
      },
      "execution_count": null,
      "outputs": []
    },
    {
      "cell_type": "markdown",
      "source": [
        "## Hiper-Parametros"
      ],
      "metadata": {
        "id": "mBk1RwMG6Elw"
      }
    },
    {
      "cell_type": "code",
      "source": [
        "params = {\n",
        "  'n_context': 9,\n",
        "  'vocab_size': 3000,\n",
        "  'embedding_dim': 64,\n",
        "  'hidden_size': 64,\n",
        "  'batch_size': 256,\n",
        "  'epochs': 50,\n",
        "  'lr': 1e-3,\n",
        "  'patience': 10,\n",
        "  'min_delta':0\n",
        "}"
      ],
      "metadata": {
        "id": "uejwC524vanf"
      },
      "execution_count": null,
      "outputs": []
    },
    {
      "cell_type": "code",
      "source": [
        "tokenizer     = Tokenizer(max_tokens=params['vocab_size']).create_vocab(x_train)\n",
        "train_dataset = IMDBDataset(data=x_train, tokenizer=tokenizer, n_context=params['n_context'])\n",
        "val_dataset   = IMDBDataset(data=x_valid, tokenizer=tokenizer, n_context=params['n_context'])\n",
        "test_dataset  = IMDBDataset(data=x_test, tokenizer=tokenizer, n_context=params['n_context'])\n",
        "\n",
        "train_loader = DataLoader(train_dataset, batch_size=params['batch_size'], shuffle=True)\n",
        "val_loader   = DataLoader(val_dataset, batch_size=params['batch_size'])\n",
        "test_loader  = DataLoader(test_dataset, batch_size=params['batch_size'])"
      ],
      "metadata": {
        "id": "mXctmOVcKqc-"
      },
      "execution_count": null,
      "outputs": []
    },
    {
      "cell_type": "code",
      "source": [
        "model = BasicLanguageModel(n_context=params['n_context'], vocab_size=params['vocab_size'], embedding_dim=params['embedding_dim'], hidden_size=params['hidden_size'])\n",
        "model.to(device)\n",
        "\n",
        "#optimizer = torch.optim.SGD(model.parameters(), lr=params['lr'], momentum=params['momentum'])\n",
        "optimizer = torch.optim.Adam(model.parameters(), lr=params['lr'])\n",
        "\n",
        "criterion = nn.CrossEntropyLoss()\n",
        "early_stopping = EarlyStopping(patience=params['patience'], min_delta=params['min_delta'])\n",
        "\n",
        "history = {'train_loss': [], 'val_loss': [], 'train_acc':[], 'val_acc':[], 'train_perplexity': [], 'val_perplexity' : []}\n",
        "initial_perplexity = 0.0\n",
        "\n",
        "for epoch in tqdm(range(params['epochs'])):\n",
        "  train_loss, train_correct, initial_perplexity = train_epoch(model=model, \n",
        "                                                              dataloader=train_loader, \n",
        "                                                              criterion=criterion, \n",
        "                                                              optimizer=optimizer,\n",
        "                                                              get_perplexity=True if epoch == 0 else False,\n",
        "                                                              initial_perplexity=initial_perplexity)\n",
        "\n",
        "  val_loss, val_correct  = evaluate(model=model, \n",
        "                                    dataloader=val_loader,\n",
        "                                    criterion=criterion)\n",
        "\n",
        "  train_loss = train_loss / len(train_loader)\n",
        "  train_acc = train_correct.cpu().item() / len(train_loader.sampler) * 100\n",
        "  train_perplexity = np.exp(train_loss)\n",
        "\n",
        "  val_loss = val_loss / len(val_loader)\n",
        "  val_acc = val_correct.cpu().item() / len(val_loader.sampler) * 100\n",
        "  val_perplexity = np.exp(val_loss)\n",
        "\n",
        "  if early_stopping(model, val_loss): break\n",
        "\n",
        "  #print(f'EPOCH: {epoch}\\t---\\tTRAIN LOSS: {round(train_loss, 3)}\\t --- \\tTRAIN PERPLEXITY: {round(train_perplexity, 3)}\\t --- \\tTRAIN ACC: {round(train_acc, 2)}\\t --- \\tVAL LOSS: {round(val_loss, 3)}\\t --- \\tVAL ACC: {round(val_acc, 2)}\\t --- \\tVAL PERPLEXITY: {round(val_perplexity, 3)} ')\n",
        "\n",
        "  history['train_loss'].append(train_loss)\n",
        "  history['train_acc'].append(train_acc)\n",
        "  history['train_perplexity'].append(train_perplexity)\n",
        "  history['val_loss'].append(val_loss)\n",
        "  history['val_acc'].append(val_acc)\n",
        "  history['val_perplexity'].append(val_perplexity)"
      ],
      "metadata": {
        "colab": {
          "base_uri": "https://localhost:8080/"
        },
        "id": "fCFpZ5qr3Y_9",
        "outputId": "0fdec918-9eed-4e65-de9e-71e8be16ae09"
      },
      "execution_count": null,
      "outputs": [
        {
          "output_type": "stream",
          "name": "stderr",
          "text": [
            " 84%|████████▍ | 42/50 [27:09<05:10, 38.81s/it]\n"
          ]
        }
      ]
    },
    {
      "cell_type": "code",
      "source": [
        "import matplotlib.pyplot as plt\n",
        "\n",
        "epochs = np.arange(len(history['train_loss']))\n",
        "\n",
        "fig, axes = plt.subplots(nrows=1, ncols=3, figsize=(30,7))\n",
        "axes[0].plot(epochs, history['train_loss'], label='Train')\n",
        "axes[0].plot(epochs, history['val_loss'], label='Validation')\n",
        "axes[0].set_title('Cross Entropy Loss (with Early Stopping)')\n",
        "axes[0].set_xlabel('Epochs'); axes[0].set_ylabel('Loss')\n",
        "axes[0].grid(); axes[0].legend()\n",
        "\n",
        "axes[1].plot(epochs, history['train_acc'], label='Train')\n",
        "axes[1].plot(epochs, history['val_acc'], label='Validation')\n",
        "axes[1].set_title('Accuracy (with Early Stopping)')\n",
        "axes[1].set_xlabel('Epochs'); axes[1].set_ylabel('Acc')\n",
        "axes[1].grid(); axes[1].legend()\n",
        "\n",
        "axes[2].plot(epochs, history['train_perplexity'], label='Train')\n",
        "axes[2].plot(epochs, history['val_perplexity'], label='Validation')\n",
        "axes[2].set_title('Perplexity (with Early Stopping)')\n",
        "axes[2].set_xlabel('Epochs'); axes[2].set_ylabel('EXP(Loss)')\n",
        "axes[2].grid(); axes[2].legend()\n",
        "\n",
        "plt.show()"
      ],
      "metadata": {
        "colab": {
          "base_uri": "https://localhost:8080/",
          "height": 458
        },
        "id": "i2zzNcvy6h8o",
        "outputId": "9f0b208e-f092-4e81-8ea2-6ddfbc115f6e"
      },
      "execution_count": null,
      "outputs": [
        {
          "output_type": "display_data",
          "data": {
            "text/plain": [
              "<Figure size 2160x504 with 3 Axes>"
            ],
            "image/png": "[encoded data removed]"
          },
          "metadata": {
            "needs_background": "light"
          }
        }
      ]
    },
    {
      "cell_type": "code",
      "source": [
        "model = BasicLanguageModel(n_context=params['n_context'], vocab_size=params['vocab_size'], embedding_dim=params['embedding_dim'], hidden_size=params['hidden_size'])\n",
        "model.load_state_dict(early_stopping.best_model_wts)\n",
        "model.to(device)\n",
        "\n",
        "test_loss, test_correct  = evaluate(model=model, \n",
        "                                  dataloader=test_loader,\n",
        "                                  criterion=criterion)\n",
        "\n",
        "test_loss = test_loss / len(test_loader)\n",
        "test_acc = test_correct.cpu().item() / len(test_loader.sampler) * 100\n",
        "test_perplexity = np.exp(test_loss)\n",
        "\n",
        "print(f'INITIAL PERPLEXITY: {initial_perplexity} ----- TEST LOSS: {test_loss} ----- TEST ACC: {test_acc} ----- TEST PERPLEXITY: {test_perplexity}')"
      ],
      "metadata": {
        "colab": {
          "base_uri": "https://localhost:8080/"
        },
        "id": "g6FI3Y72iY6f",
        "outputId": "0d905863-eb88-4bf6-8bec-43efca259572"
      },
      "execution_count": null,
      "outputs": [
        {
          "output_type": "stream",
          "name": "stdout",
          "text": [
            "INITIAL PERPLEXITY: 3032.6956173355693 ----- TEST LOSS: 4.181991795991177 ----- TEST ACC: 23.447065801610094 ----- TEST PERPLEXITY: 65.49617840591277\n"
          ]
        }
      ]
    },
    {
      "cell_type": "code",
      "source": [
        "text_sample = \"Amazing movie, good writer, terrific actors and\"\n",
        "\n",
        "for i in range(13):\n",
        "  vector_input = torch.Tensor(tokenizer.encode(text_sample)).long()\n",
        "  vector_input = vector_input.reshape(1,-1).to(device)\n",
        "  \n",
        "  logits = model(vector_input[:, i:])\n",
        "  _, preds = torch.max(logits, 1)\n",
        "\n",
        "  vector_input = torch.cat((vector_input, preds.reshape(1,-1)), dim=1)\n",
        "  text_sample = tokenizer.decode(vector_input.reshape(-1).cpu().numpy())\n",
        "  text_sample = ' '.join(text_sample)\n",
        "\n",
        "  print('Generated Text:', text_sample)"
      ],
      "metadata": {
        "id": "45Ub9A0diktj",
        "colab": {
          "base_uri": "https://localhost:8080/"
        },
        "outputId": "3d288488-1a42-497d-938f-834745980e1a"
      },
      "execution_count": null,
      "outputs": [
        {
          "output_type": "stream",
          "name": "stdout",
          "text": [
            "Generated Text: amazing movie , good writer , terrific actors and actresses\n",
            "Generated Text: amazing movie , good writer , terrific actors and actresses ,\n",
            "Generated Text: amazing movie , good writer , terrific actors and actresses , but\n",
            "Generated Text: amazing movie , good writer , terrific actors and actresses , but the\n",
            "Generated Text: amazing movie , good writer , terrific actors and actresses , but the script\n",
            "Generated Text: amazing movie , good writer , terrific actors and actresses , but the script is\n",
            "Generated Text: amazing movie , good writer , terrific actors and actresses , but the script is not\n",
            "Generated Text: amazing movie , good writer , terrific actors and actresses , but the script is not as\n",
            "Generated Text: amazing movie , good writer , terrific actors and actresses , but the script is not as good\n",
            "Generated Text: amazing movie , good writer , terrific actors and actresses , but the script is not as good as\n",
            "Generated Text: amazing movie , good writer , terrific actors and actresses , but the script is not as good as it\n",
            "Generated Text: amazing movie , good writer , terrific actors and actresses , but the script is not as good as it is\n",
            "Generated Text: amazing movie , good writer , terrific actors and actresses , but the script is not as good as it is .\n"
          ]
        }
      ]
    },
    {
      "cell_type": "code",
      "source": [
        "text_sample = \"Worst film ever. <br /><br /> Don't watch it <br /><br />\"\n",
        "\n",
        "for i in range(13):\n",
        "  vector_input = torch.Tensor(tokenizer.encode(text_sample)).long()\n",
        "  vector_input = vector_input.reshape(1,-1).to(device)\n",
        "  \n",
        "  logits = model(vector_input[:, i:])\n",
        "  _, preds = torch.max(logits, 1)\n",
        "\n",
        "  vector_input = torch.cat((vector_input, preds.reshape(1,-1)), dim=1)\n",
        "  text_sample = tokenizer.decode(vector_input.reshape(-1).cpu().numpy())\n",
        "  text_sample = ' '.join(text_sample)\n",
        "\n",
        "  print('Generated Text:', text_sample)"
      ],
      "metadata": {
        "colab": {
          "base_uri": "https://localhost:8080/"
        },
        "id": "O9CifHG-7O1c",
        "outputId": "a443ea51-de3e-45b1-9338-79ad866ea408"
      },
      "execution_count": null,
      "outputs": [
        {
          "output_type": "stream",
          "name": "stdout",
          "text": [
            "Generated Text: worst film ever . don ' t watch it .\n",
            "Generated Text: worst film ever . don ' t watch it . i\n",
            "Generated Text: worst film ever . don ' t watch it . i '\n",
            "Generated Text: worst film ever . don ' t watch it . i ' m\n",
            "Generated Text: worst film ever . don ' t watch it . i ' m not\n",
            "Generated Text: worst film ever . don ' t watch it . i ' m not sure\n",
            "Generated Text: worst film ever . don ' t watch it . i ' m not sure what\n",
            "Generated Text: worst film ever . don ' t watch it . i ' m not sure what it\n",
            "Generated Text: worst film ever . don ' t watch it . i ' m not sure what it was\n",
            "Generated Text: worst film ever . don ' t watch it . i ' m not sure what it was going\n",
            "Generated Text: worst film ever . don ' t watch it . i ' m not sure what it was going to\n",
            "Generated Text: worst film ever . don ' t watch it . i ' m not sure what it was going to happen\n",
            "Generated Text: worst film ever . don ' t watch it . i ' m not sure what it was going to happen .\n"
          ]
        }
      ]
    }
  ]
}