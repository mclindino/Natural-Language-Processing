{
  "nbformat": 4,
  "nbformat_minor": 0,
  "metadata": {
    "colab": {
      "provenance": [],
      "collapsed_sections": []
    },
    "kernelspec": {
      "name": "python3",
      "display_name": "Python 3"
    },
    "accelerator": "GPU"
  },
  "cells": [
    {
      "cell_type": "code",
      "source": [
        " nome = 'Matheus Lindino'\n",
        "print(f'Meu nome é {nome}')"
      ],
      "metadata": {
        "colab": {
          "base_uri": "https://localhost:8080/"
        },
        "id": "uxGWfhA5jxNG",
        "outputId": "3ae06c43-b426-4cf2-eba5-42cb9679e64b"
      },
      "execution_count": null,
      "outputs": [
        {
          "output_type": "stream",
          "name": "stdout",
          "text": [
            "Meu nome é Matheus Lindino\n"
          ]
        }
      ]
    },
    {
      "cell_type": "markdown",
      "metadata": {
        "id": "Od7iUgHy5SSi"
      },
      "source": [
        "## Instruções\n",
        "\n",
        "- Treinar uma rede neural de duas camadas como classificador binário na tarefa de análise de sentimentos usando dataset IMDB usando TF-IDF como entrada.\n",
        "\n",
        "Deve-se implementar o laço de treinamento e validação da rede neural.\n",
        "\n",
        "Neste exercício usaremos o IMDB com 20k exemplos para treino, 5k para desenvolvimento e 25k para teste."
      ]
    },
    {
      "cell_type": "markdown",
      "source": [
        "# Importando os pacotes necessários"
      ],
      "metadata": {
        "id": "W_dfOgTUffR2"
      }
    },
    {
      "cell_type": "code",
      "source": [
        "import re\n",
        "import os\n",
        "import torch\n",
        "import torch.nn as nn\n",
        "import random\n",
        "import collections\n",
        "import numpy as np\n",
        "\n",
        "from tqdm import tqdm\n",
        "from typing import List"
      ],
      "metadata": {
        "id": "lb8DJ6YaTtyI"
      },
      "execution_count": null,
      "outputs": []
    },
    {
      "cell_type": "markdown",
      "source": [
        "# Verificando se a GPU está disponível"
      ],
      "metadata": {
        "id": "3HA9p2iEUZj-"
      }
    },
    {
      "cell_type": "code",
      "metadata": {
        "colab": {
          "base_uri": "https://localhost:8080/"
        },
        "id": "HPbiUIrHZlun",
        "outputId": "9afa0acd-dc8d-4c8f-9fe0-2e49a80e3851"
      },
      "source": [
        "if torch.cuda.is_available(): \n",
        "   dev = \"cuda:0\"\n",
        "   print(torch. cuda. get_device_name(dev))\n",
        "else:\n",
        "   dev = \"cpu\" \n",
        "print(dev)\n",
        "device = torch.device(dev)"
      ],
      "execution_count": null,
      "outputs": [
        {
          "output_type": "stream",
          "name": "stdout",
          "text": [
            "Tesla T4\n",
            "cuda:0\n"
          ]
        }
      ]
    },
    {
      "cell_type": "markdown",
      "metadata": {
        "id": "CXFdJz2KVeQw"
      },
      "source": [
        "## Preparando Dados"
      ]
    },
    {
      "cell_type": "markdown",
      "metadata": {
        "id": "gHMi_Kq65fPM"
      },
      "source": [
        "Primeiro, fazemos download do dataset:"
      ]
    },
    {
      "cell_type": "code",
      "metadata": {
        "id": "2wbnfzst5O3k",
        "colab": {
          "base_uri": "https://localhost:8080/"
        },
        "outputId": "247eba3e-3265-4e7d-a5dd-30516681737d"
      },
      "source": [
        "!wget -nc http://files.fast.ai/data/aclImdb.tgz \n",
        "!tar -xzf aclImdb.tgz"
      ],
      "execution_count": null,
      "outputs": [
        {
          "output_type": "stream",
          "name": "stdout",
          "text": [
            "File ‘aclImdb.tgz’ already there; not retrieving.\n",
            "\n"
          ]
        }
      ]
    },
    {
      "cell_type": "markdown",
      "metadata": {
        "id": "0Giyi5Rv_NIm"
      },
      "source": [
        "## Carregando o dataset\n",
        "\n",
        "Criaremos uma divisão de treino (80%) e validação (20%) artificialmente.\n",
        "\n",
        "Nota: Evitar de olhar ao máximo o dataset de teste para não ficar enviseado no que será testado. Em aplicações reais, o dataset de teste só estará disponível no futuro, ou seja, é quando o usuário começa a testar o seu produto."
      ]
    },
    {
      "cell_type": "code",
      "metadata": {
        "id": "0HIN_xLI_TuT",
        "colab": {
          "base_uri": "https://localhost:8080/"
        },
        "outputId": "e83d9131-0cbb-45f1-dda5-43a7d1697f39"
      },
      "source": [
        "def load_texts(folder):\n",
        "    texts = []\n",
        "    for path in os.listdir(folder):\n",
        "        with open(os.path.join(folder, path)) as f:\n",
        "            texts.append(f.read())\n",
        "    return texts\n",
        "\n",
        "x_train_pos = load_texts('aclImdb/train/pos')\n",
        "x_train_neg = load_texts('aclImdb/train/neg')\n",
        "x_test_pos = load_texts('aclImdb/test/pos')\n",
        "x_test_neg = load_texts('aclImdb/test/neg')\n",
        "\n",
        "x_train = x_train_pos + x_train_neg\n",
        "x_test = x_test_pos + x_test_neg\n",
        "y_train = [True] * len(x_train_pos) + [False] * len(x_train_neg)\n",
        "y_test = [True] * len(x_test_pos) + [False] * len(x_test_neg)\n",
        "\n",
        "# Embaralhamos o treino para depois fazermos a divisão treino/valid.\n",
        "c = list(zip(x_train, y_train))\n",
        "random.shuffle(c)\n",
        "x_train, y_train = zip(*c)\n",
        "\n",
        "n_train = int(0.8 * len(x_train))\n",
        "\n",
        "x_valid = x_train[n_train:]\n",
        "y_valid = y_train[n_train:]\n",
        "x_train = x_train[:n_train]\n",
        "y_train = y_train[:n_train]\n",
        "\n",
        "print(len(x_train), 'amostras de treino.')\n",
        "print(len(x_valid), 'amostras de desenvolvimento.')\n",
        "print(len(x_test), 'amostras de teste.')\n",
        "\n",
        "print('3 primeiras amostras treino:')\n",
        "for x, y in zip(x_train[:3], y_train[:3]):\n",
        "    print(y, x[:100])\n",
        "\n",
        "print('3 últimas amostras treino:')\n",
        "for x, y in zip(x_train[-3:], y_train[-3:]):\n",
        "    print(y, x[:100])\n",
        "\n",
        "print('3 primeiras amostras validação:')\n",
        "for x, y in zip(x_valid[:3], y_test[:3]):\n",
        "    print(y, x[:100])\n",
        "\n",
        "print('3 últimas amostras validação:')\n",
        "for x, y in zip(x_valid[-3:], y_valid[-3:]):\n",
        "    print(y, x[:100])"
      ],
      "execution_count": null,
      "outputs": [
        {
          "output_type": "stream",
          "name": "stdout",
          "text": [
            "20000 amostras de treino.\n",
            "5000 amostras de desenvolvimento.\n",
            "25000 amostras de teste.\n",
            "3 primeiras amostras treino:\n",
            "False If I only had one camera that was accidentally glued to the floor, enough film for only one take of \n",
            "False This is even worse than the original Game of Death. A jumbled, incoherent storyline leads to \"Billy \n",
            "False It is very unfortunate when a movie such as this is made. A great deal of work and money has been pu\n",
            "3 últimas amostras treino:\n",
            "True I had pleasure to watch the short film \"The Cure\", by first time director Ryan Jafri. What really im\n",
            "True This is almost typical Lynch. However, What makes this film slightly unusual for Lynch is the fact t\n",
            "False Ok so I was bored and I watched it all the way through.<br /><br />This film is mild, inoffensive an\n",
            "3 primeiras amostras validação:\n",
            "True My Take: Makes use of its familiar plot with fine performances and a few genuine moments of exciteme\n",
            "True To say that Thunderbirds is a horrid, forced, in-your-face, ugly looking, nasty to listen to and pai\n",
            "True Leonard Maltin must've been watching some other movie. (Though I find his Guide to be quite a valuab\n",
            "3 últimas amostras validação:\n",
            "True Sadly, 8 Simple Rules, for dating my teenage daughter, was the last sitcom that John Ritter got to w\n",
            "False A well-intentioned movie about Sonja Horowitz (Renée Zellweger), the wife of devout Talmudic scholar\n",
            "False This was truly dreadful! It had a terrible storyline, was poorly acted, and was like an amateur rema\n"
          ]
        }
      ]
    },
    {
      "cell_type": "markdown",
      "source": [
        "## Classe TF-IDF"
      ],
      "metadata": {
        "id": "i0-TCAqN_FjM"
      }
    },
    {
      "cell_type": "code",
      "source": [
        "from math import log\n",
        "\n",
        "class TF_IDF():\n",
        "  def __init__(self, max_tokens: int = 1000):\n",
        "    self.max_tokens = max_tokens\n",
        "    self.vocab = {}\n",
        "    self.idf = {} #torch.empty(max_tokens)\n",
        "\n",
        "  def fit(self, texts: List[str]):\n",
        "    # Inspirado em Bruno --> o .fit inicial não era eficaz!\n",
        "    \n",
        "    # .fit inicial:\n",
        "      # tokens = self.tokenize(' '.join(texts))\n",
        "      # self.vocab = dict(collections.Counter(tokens).most_common(self.max_tokens))\n",
        "      # N = len(texts)\n",
        "\n",
        "      # for token in self.vocab.keys():\n",
        "      #   count = sum([1 for sentence in texts if token in sentence])\n",
        "      #   self.idf[token] = log(N / (count))\n",
        "\n",
        "    N = len(texts)\n",
        "    all_tokens = [self.tokenize(sample) for sample in texts]\n",
        "    count = []\n",
        "\n",
        "    for tokens in all_tokens:\n",
        "      for sample in set(tokens):\n",
        "        count.append(sample)\n",
        "    \n",
        "    count = collections.Counter(count).most_common(self.max_tokens)\n",
        "    self.idf = {key: np.log(N/value) for key, value in count}\n",
        "\n",
        "    return self\n",
        "\n",
        "  def transform(self, sample: str):\n",
        "    tf = collections.Counter(self.tokenize(sample))\n",
        "    result = []\n",
        "\n",
        "    for token in self.idf.keys():\n",
        "      try:\n",
        "        result.append(tf[token] * self.idf[token])\n",
        "      except:\n",
        "        result.append(0)\n",
        "    \n",
        "    return result\n",
        "\n",
        "  def tokenize(self, text: str): \n",
        "    pattern = r'\\w+'\n",
        "    upper_tokens = re.findall(pattern, text)\n",
        "    return [tokens.lower() for tokens in upper_tokens]"
      ],
      "metadata": {
        "id": "fQ9ZkPnQgctW"
      },
      "execution_count": null,
      "outputs": []
    },
    {
      "cell_type": "markdown",
      "source": [
        "### Testando implementação do TF-IDF"
      ],
      "metadata": {
        "id": "Ljs8inoe_L-S"
      }
    },
    {
      "cell_type": "code",
      "source": [
        "def tokenize(text: str): \n",
        "  upper_tokens = re.findall(r'\\w+', text)\n",
        "  return [tokens.lower() for tokens in upper_tokens]\n",
        "  \n",
        "\n",
        "corpus = ['Apple Mango Banana Apple Avocado Pineapple',\n",
        "          'Apple Pineapple Mango',\n",
        "          'Banana Mango Banana Apple',\n",
        "          'Pineapple Berry Apricot Apple',\n",
        "          'Mango Mango Avocado Apple']\n",
        "\n",
        "N = len(corpus)\n",
        "max_tokens = 5\n",
        "\n",
        "example_1 = 'Pineapple Avocado Apple Apple'\n",
        "example_2 = 'Apricot Apple Banana Banana Banana'\n",
        "\n",
        "expected_idf = {'apple': log(N/5), 'mango': log(N/4), 'banana': log(N/2), 'avocado': log(N/2), 'pineapple': log(N/3)}\n",
        "tf_example_1 = collections.Counter(tokenize(example_1))\n",
        "tf_example_2 = collections.Counter(tokenize(example_2))\n",
        "\n",
        "expected_tfidf_example_1 = []\n",
        "expected_tfidf_example_2 = []\n",
        "for key, value in expected_idf.items():\n",
        "  expected_tfidf_example_1.append(expected_idf[key]*tf_example_1[key])\n",
        "  expected_tfidf_example_2.append(expected_idf[key]*tf_example_2[key])\n",
        "\n",
        "\n",
        "custom_transform = TF_IDF(max_tokens=max_tokens).fit(corpus)\n",
        "\n",
        "assert len(custom_transform.idf) == max_tokens, 'Vocab size incorrect'\n",
        "assert expected_idf['apple'] == custom_transform.idf['apple'], 'IDF not equal'\n",
        "assert expected_idf['banana'] == custom_transform.idf['banana'], 'IDF not equal'\n",
        "\n",
        "tf_idf_example_1 = custom_transform.transform(example_1)\n",
        "tf_idf_example_2 = custom_transform.transform(example_2)\n",
        "\n",
        "\n",
        "expected_tfidf_example_1.sort()\n",
        "expected_tfidf_example_2.sort()\n",
        "tf_idf_example_1.sort()\n",
        "tf_idf_example_2.sort()\n",
        "\n",
        "assert expected_tfidf_example_1 == tf_idf_example_1, 'TF-IDF incorrect'\n",
        "assert expected_tfidf_example_2 == tf_idf_example_2, 'TF-IDF incorrect'"
      ],
      "metadata": {
        "id": "kaIccwZo6DZW"
      },
      "execution_count": null,
      "outputs": []
    },
    {
      "cell_type": "markdown",
      "source": [
        "## Criando Dataset customizado"
      ],
      "metadata": {
        "id": "IQ9p2pZT_QCK"
      }
    },
    {
      "cell_type": "code",
      "source": [
        "class CustomDataset(nn.Module):\n",
        "  def __init__(self, x, y, transform):\n",
        "    super().__init__()\n",
        "    self.x = torch.Tensor([transform(sample) for sample in x]).float()\n",
        "    self.y = torch.Tensor(y).long()\n",
        "\n",
        "  def __len__(self):\n",
        "    return len(self.x)\n",
        "\n",
        "  def __getitem__(self, index):\n",
        "    return self.x[index], self.y[index]"
      ],
      "metadata": {
        "id": "_0LDGO9MMl2M"
      },
      "execution_count": null,
      "outputs": []
    },
    {
      "cell_type": "markdown",
      "source": [
        "### Testando Dataset"
      ],
      "metadata": {
        "id": "0S0Ks8S2_WbP"
      }
    },
    {
      "cell_type": "code",
      "source": [
        "corpus = ['Apple Mango Banana Apple Avocado Pineapple',\n",
        "          'Apple Pineapple Mango',\n",
        "          'Banana Mango Banana Apple',\n",
        "          'Pineapple Berry Apricot Apple',\n",
        "          'Mango Mango Avocado Apple']\n",
        "target = [0, 0, 1, 0, 1]\n",
        "\n",
        "custom_transform = TF_IDF(max_tokens=5).fit(corpus)\n",
        "dataset = CustomDataset(corpus, target, custom_transform.transform)\n",
        "\n",
        "assert dataset.__len__() == len(corpus), 'Dataset size incorrect'\n",
        "assert torch.all(torch.eq(dataset.__getitem__(0)[0], torch.Tensor(custom_transform.transform(corpus[0])))), 'First example wrong'"
      ],
      "metadata": {
        "id": "97n66LdK_Y_P"
      },
      "execution_count": null,
      "outputs": []
    },
    {
      "cell_type": "markdown",
      "source": [
        "## Criando Modelo de Rede Neural"
      ],
      "metadata": {
        "id": "AcJlUtc9BL1l"
      }
    },
    {
      "cell_type": "code",
      "source": [
        "class NeuralNetwork(nn.Module):\n",
        "  def __init__(self, input_size=1000, hidden_layer=100, n_classes=2):\n",
        "    super().__init__()\n",
        "    self.linear_hidden_1 = nn.Linear(in_features=input_size, out_features=hidden_layer, bias=True)\n",
        "    self.linear_hidden_2 = nn.Linear(in_features=hidden_layer, out_features=n_classes, bias=True)\n",
        "    self.activation_function = nn.ReLU()\n",
        "\n",
        "    ## LAYER_1: INPUT_SIZE * HIDDEN_LAYER + HIDDEN_LAYER = 1000 * 32 + 32 = 32032\n",
        "    ## LAYER_2: HIDDEN_LAYER * N_CLASSES + N_CLASSES = 32 * 2 + 2 = 66\n",
        "    ## TOTAL: 32032 + 66 = 32098 parameters\n",
        "    \n",
        "  def forward(self, data):\n",
        "    data = self.linear_hidden_1(data)\n",
        "    data = self.activation_function(data)\n",
        "    data = self.linear_hidden_2(data)\n",
        "\n",
        "    return data"
      ],
      "metadata": {
        "id": "uyfdaEVxNNZU"
      },
      "execution_count": null,
      "outputs": []
    },
    {
      "cell_type": "markdown",
      "source": [
        "### Testando modelo"
      ],
      "metadata": {
        "id": "5NzNAIvYBOzQ"
      }
    },
    {
      "cell_type": "code",
      "source": [
        "x = torch.rand(10, 10)\n",
        "model = NeuralNetwork(input_size=10, hidden_layer=2, n_classes=2)\n",
        "logits = model(x)\n",
        "\n",
        "assert logits.shape[0] == 10, 'Logits in different shape then batch_size'\n",
        "assert logits.shape[1] == 2, 'Logits in different shape then n_classes'"
      ],
      "metadata": {
        "id": "Dy6ZJf8MBQtx"
      },
      "execution_count": null,
      "outputs": []
    },
    {
      "cell_type": "markdown",
      "source": [
        "## Classe EarlyStopping"
      ],
      "metadata": {
        "id": "5ZGvRGvpB2IB"
      }
    },
    {
      "cell_type": "code",
      "source": [
        "import copy\n",
        "\n",
        "class EarlyStopping():\n",
        "  def __init__(self, patience=10, min_delta=0):\n",
        "    self.patience = patience\n",
        "    self.counter = 0\n",
        "    self.best_score = None\n",
        "    self.best_model_wts = None\n",
        "    self.min_delta = min_delta\n",
        "\n",
        "  def __call__(self, model, val_loss):\n",
        "    score = -val_loss\n",
        "\n",
        "    if self.best_score is None:\n",
        "        self.best_score = score\n",
        "        self.best_model_wts = copy.deepcopy(model.state_dict())\n",
        "        return False\n",
        "\n",
        "    elif score < self.best_score + self.min_delta:\n",
        "        self.counter += 1\n",
        "        if self.counter >= self.patience:\n",
        "            return True\n",
        "    else:\n",
        "        self.best_score = score\n",
        "        self.best_model_wts = copy.deepcopy(model.state_dict())\n",
        "        self.counter = 0\n",
        "        return False"
      ],
      "metadata": {
        "id": "rlzU4yy2rzaR"
      },
      "execution_count": null,
      "outputs": []
    },
    {
      "cell_type": "markdown",
      "source": [
        "## Função para treinar e validar uma única época"
      ],
      "metadata": {
        "id": "efHUxRvpB5PY"
      }
    },
    {
      "cell_type": "code",
      "source": [
        "def train_epoch(model, dataloader, criterion, optimizer):\n",
        "  running_loss = 0.0\n",
        "  running_corrects = 0\n",
        "\n",
        "  model.train()\n",
        "  for inputs, targets in dataloader:\n",
        "    targets = targets.type(torch.LongTensor)\n",
        "    \n",
        "    inputs = inputs.to(device)\n",
        "    targets = targets.to(device)\n",
        "    \n",
        "    optimizer.zero_grad()\n",
        "    \n",
        "    outputs = model(inputs)\n",
        "    loss = criterion(outputs, targets)\n",
        "\n",
        "    _, preds = torch.max(outputs, 1)\n",
        "    loss.backward()\n",
        "    optimizer.step()\n",
        "\n",
        "    running_loss += loss.item() \n",
        "    running_corrects += torch.sum(preds == targets.data)\n",
        "\n",
        "  return running_loss, running_corrects\n",
        "\n",
        "def evaluate(model, dataloader, criterion):\n",
        "  running_loss = 0.0\n",
        "  running_corrects = 0\n",
        "\n",
        "  model.eval()\n",
        "  for inputs, targets in dataloader:\n",
        "    targets = targets.type(torch.LongTensor)\n",
        "    inputs = inputs.to(device)\n",
        "    targets = targets.to(device)\n",
        "\n",
        "    with torch.no_grad():\n",
        "      outputs = model(inputs)\n",
        "      loss = criterion(outputs, targets)\n",
        "      _, preds = torch.max(outputs, 1)\n",
        "      \n",
        "      running_loss += loss.item()\n",
        "      running_corrects += torch.sum(preds == targets.data)\n",
        "\n",
        "  return running_loss, running_corrects"
      ],
      "metadata": {
        "id": "6gRsjB8qPiRT"
      },
      "execution_count": null,
      "outputs": []
    },
    {
      "cell_type": "markdown",
      "source": [
        "## Hiper-parâmetros utilizados para o treinamento do modelo"
      ],
      "metadata": {
        "id": "AvBcLARWB8ra"
      }
    },
    {
      "cell_type": "code",
      "source": [
        "params = {\n",
        "  'batch_size': 256,\n",
        "  'max_tokens': 1000,\n",
        "  'hidden_layer': 32,\n",
        "  'n_classes': 2,\n",
        "  'epochs': 100,\n",
        "  'lr': 1e-3,\n",
        "  'momentum': 0.9,\n",
        "  'patience': 20,\n",
        "  'min_delta':0\n",
        "}"
      ],
      "metadata": {
        "id": "AKDDoYQhXjtc"
      },
      "execution_count": null,
      "outputs": []
    },
    {
      "cell_type": "markdown",
      "source": [
        "## Cria o Dataloader"
      ],
      "metadata": {
        "id": "U_Mb5Hc2CCTR"
      }
    },
    {
      "cell_type": "code",
      "source": [
        "custom_transform = TF_IDF(max_tokens=params['max_tokens'])\n",
        "custom_transform.fit(x_train)\n",
        "\n",
        "train_dataset = CustomDataset(x=x_train, y=y_train, transform=custom_transform.transform)\n",
        "val_dataset = CustomDataset(x=x_valid, y=y_valid, transform=custom_transform.transform)\n",
        "test_dataset = CustomDataset(x=x_test, y=y_test, transform=custom_transform.transform)"
      ],
      "metadata": {
        "id": "so5Vd24oSkGg"
      },
      "execution_count": null,
      "outputs": []
    },
    {
      "cell_type": "code",
      "source": [
        "train_loader = torch.utils.data.DataLoader(train_dataset, batch_size=params['batch_size'], shuffle=True)\n",
        "val_loader = torch.utils.data.DataLoader(val_dataset, batch_size=params['batch_size'])\n",
        "test_loader = torch.utils.data.DataLoader(test_dataset, batch_size=params['batch_size'])"
      ],
      "metadata": {
        "id": "VGMgboj1UHuU"
      },
      "execution_count": null,
      "outputs": []
    },
    {
      "cell_type": "markdown",
      "source": [
        "## Treinamento e avaliação do modelo"
      ],
      "metadata": {
        "id": "2fxe7uNJCEct"
      }
    },
    {
      "cell_type": "code",
      "source": [
        "model = NeuralNetwork(input_size=params['max_tokens'], hidden_layer=params['hidden_layer'], n_classes=params['n_classes'])\n",
        "model.to(device)\n",
        "\n",
        "optimizer = torch.optim.SGD(model.parameters(), lr=params['lr'], momentum=params['momentum'])\n",
        "criterion = nn.CrossEntropyLoss()\n",
        "early_stopping = EarlyStopping(patience=params['patience'], min_delta=params['min_delta'])\n",
        "\n",
        "history = {'train_loss': [], 'val_loss': [], 'train_acc':[], 'val_acc':[], 'train_perplexity': [], 'val_perplexity' : []}\n",
        "\n",
        "for epoch in tqdm(range(params['epochs'])):\n",
        "\n",
        "  train_loss, train_correct = train_epoch(model=model, \n",
        "                                          dataloader=train_loader, \n",
        "                                          criterion=criterion, \n",
        "                                          optimizer=optimizer)\n",
        "\n",
        "  val_loss, val_correct  = evaluate(model=model, \n",
        "                                    dataloader=val_loader,\n",
        "                                    criterion=criterion)\n",
        "\n",
        "  train_loss = train_loss / len(train_loader)\n",
        "  train_acc = train_correct.cpu().item() / len(train_loader.sampler) * 100\n",
        "  train_perplexity = np.exp(train_loss)\n",
        "\n",
        "  val_loss = val_loss / len(val_loader)\n",
        "  val_acc = val_correct.cpu().item() / len(val_loader.sampler) * 100\n",
        "  val_perplexity = np.exp(val_loss)\n",
        "\n",
        "  if early_stopping(model, val_loss): break\n",
        "\n",
        "  #print(f'EPOCH: {epoch}\\t---\\tTRAIN LOSS: {round(train_loss, 3)}\\t --- \\tTRAIN PERPLEXITY: {round(train_perplexity, 3)}\\t --- \\tTRAIN ACC: {round(train_acc, 2)}\\t --- \\tVAL LOSS: {round(val_loss, 3)}\\t --- \\tVAL ACC: {round(val_acc, 2)}\\t --- \\tVAL PERPLEXITY: {round(val_perplexity, 3)} ')\n",
        "\n",
        "  history['train_loss'].append(train_loss)\n",
        "  history['train_acc'].append(train_acc)\n",
        "  history['train_perplexity'].append(train_perplexity)\n",
        "  history['val_loss'].append(val_loss)\n",
        "  history['val_acc'].append(val_acc)\n",
        "  history['val_perplexity'].append(val_perplexity)\n"
      ],
      "metadata": {
        "id": "lBqs7zN9Q_ML",
        "colab": {
          "base_uri": "https://localhost:8080/"
        },
        "outputId": "5b6de2ed-d577-4e58-b15b-a82dfe0ab953"
      },
      "execution_count": null,
      "outputs": [
        {
          "output_type": "stream",
          "name": "stderr",
          "text": [
            " 34%|███▍      | 34/100 [00:10<00:19,  3.32it/s]\n"
          ]
        }
      ]
    },
    {
      "cell_type": "markdown",
      "source": [
        "## Plots"
      ],
      "metadata": {
        "id": "NnBOHBl8CHMo"
      }
    },
    {
      "cell_type": "code",
      "source": [
        "import matplotlib.pyplot as plt\n",
        "\n",
        "epochs = np.arange(len(history['train_loss']))\n",
        "\n",
        "fig, axes = plt.subplots(nrows=1, ncols=3, figsize=(30,7))\n",
        "axes[0].plot(epochs, history['train_loss'], label='Train')\n",
        "axes[0].plot(epochs, history['val_loss'], label='Validation')\n",
        "axes[0].set_title('Cross Entropy Loss (with Early Stopping)')\n",
        "axes[0].set_xlabel('Epochs'); axes[0].set_ylabel('Loss')\n",
        "axes[0].grid(); axes[0].legend()\n",
        "\n",
        "axes[1].plot(epochs, history['train_acc'], label='Train')\n",
        "axes[1].plot(epochs, history['val_acc'], label='Validation')\n",
        "axes[1].set_title('Accuracy (with Early Stopping)')\n",
        "axes[1].set_xlabel('Epochs'); axes[1].set_ylabel('Acc')\n",
        "axes[1].grid(); axes[1].legend()\n",
        "\n",
        "axes[2].plot(epochs, history['train_perplexity'], label='Train')\n",
        "axes[2].plot(epochs, history['val_perplexity'], label='Validation')\n",
        "axes[2].set_title('Perplexity (with Early Stopping)')\n",
        "axes[2].set_xlabel('Epochs'); axes[2].set_ylabel('EXP(Loss)')\n",
        "axes[2].grid(); axes[2].legend()\n",
        "\n",
        "plt.show()"
      ],
      "metadata": {
        "colab": {
          "base_uri": "https://localhost:8080/",
          "height": 458
        },
        "id": "gze3n5zSVOWI",
        "outputId": "14e12166-b557-4c83-dceb-ca698ff242bc"
      },
      "execution_count": null,
      "outputs": [
        {
          "output_type": "display_data",
          "data": {
            "text/plain": [
              "<Figure size 2160x504 with 3 Axes>"
            ],
            "image/png": "[encoded data removed]"
          },
          "metadata": {
            "needs_background": "light"
          }
        }
      ]
    },
    {
      "cell_type": "markdown",
      "source": [
        "## Modelo no conjunto de teste"
      ],
      "metadata": {
        "id": "CvYObguiCIOu"
      }
    },
    {
      "cell_type": "code",
      "source": [
        "model = NeuralNetwork(input_size=params['max_tokens'], hidden_layer=params['hidden_layer'], n_classes=params['n_classes'])\n",
        "model.load_state_dict(early_stopping.best_model_wts)\n",
        "model.to(device)\n",
        "\n",
        "test_loss, test_correct  = evaluate(model=model, \n",
        "                                  dataloader=test_loader,\n",
        "                                  criterion=criterion)\n",
        "\n",
        "test_loss = test_loss / len(test_loader)\n",
        "test_acc = test_correct.cpu().item() / len(test_loader.sampler) * 100\n",
        "test_perplexity = np.exp(test_loss)\n",
        "\n",
        "print(f'TEST LOSS: {test_loss} ----- TEST ACC: {test_acc} ----- TEST PERPLEXITY: {test_perplexity}')"
      ],
      "metadata": {
        "colab": {
          "base_uri": "https://localhost:8080/"
        },
        "id": "pHLljDs9uLMU",
        "outputId": "87332871-8136-4f2f-b004-4a45fa8dcd65"
      },
      "execution_count": null,
      "outputs": [
        {
          "output_type": "stream",
          "name": "stdout",
          "text": [
            "TEST LOSS: 0.3278947166946469 ----- TEST ACC: 86.48 ----- TEST PERPLEXITY: 1.3880428268594271\n"
          ]
        }
      ]
    }
  ]
}